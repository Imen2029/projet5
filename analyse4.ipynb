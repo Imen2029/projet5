{
 "cells": [
  {
   "cell_type": "code",
   "execution_count": 0,
   "id": "04edaab7",
   "metadata": {},
   "outputs": [
    {
     "ename": "KeyboardInterrupt",
     "evalue": "",
     "output_type": "error",
     "traceback": [
      "\u001b[1;31m---------------------------------------------------------------------------\u001b[0m",
      "\u001b[1;31mKeyboardInterrupt\u001b[0m                         Traceback (most recent call last)",
      "File \u001b[1;32m~\\.conda\\envs\\geo_env\\lib\\site-packages\\IPython\\core\\async_helpers.py:129\u001b[0m, in \u001b[0;36m_pseudo_sync_runner\u001b[1;34m(coro)\u001b[0m\n\u001b[0;32m    121\u001b[0m \u001b[38;5;124;03m\"\"\"\u001b[39;00m\n\u001b[0;32m    122\u001b[0m \u001b[38;5;124;03mA runner that does not really allow async execution, and just advance the coroutine.\u001b[39;00m\n\u001b[0;32m    123\u001b[0m \n\u001b[1;32m   (...)\u001b[0m\n\u001b[0;32m    126\u001b[0m \u001b[38;5;124;03mCredit to Nathaniel Smith\u001b[39;00m\n\u001b[0;32m    127\u001b[0m \u001b[38;5;124;03m\"\"\"\u001b[39;00m\n\u001b[0;32m    128\u001b[0m \u001b[38;5;28;01mtry\u001b[39;00m:\n\u001b[1;32m--> 129\u001b[0m     \u001b[43mcoro\u001b[49m\u001b[38;5;241;43m.\u001b[39;49m\u001b[43msend\u001b[49m\u001b[43m(\u001b[49m\u001b[38;5;28;43;01mNone\u001b[39;49;00m\u001b[43m)\u001b[49m\n\u001b[0;32m    130\u001b[0m \u001b[38;5;28;01mexcept\u001b[39;00m \u001b[38;5;167;01mStopIteration\u001b[39;00m \u001b[38;5;28;01mas\u001b[39;00m exc:\n\u001b[0;32m    131\u001b[0m     \u001b[38;5;28;01mreturn\u001b[39;00m exc\u001b[38;5;241m.\u001b[39mvalue\n",
      "File \u001b[1;32m~\\.conda\\envs\\geo_env\\lib\\site-packages\\IPython\\core\\interactiveshell.py:3074\u001b[0m, in \u001b[0;36mInteractiveShell.run_cell_async\u001b[1;34m(self, raw_cell, store_history, silent, shell_futures, transformed_cell, preprocessing_exc_tuple)\u001b[0m\n\u001b[0;32m   3071\u001b[0m _run_async \u001b[38;5;241m=\u001b[39m \u001b[38;5;28;01mFalse\u001b[39;00m\n\u001b[0;32m   3073\u001b[0m \u001b[38;5;28;01mwith\u001b[39;00m \u001b[38;5;28mself\u001b[39m\u001b[38;5;241m.\u001b[39mbuiltin_trap:\n\u001b[1;32m-> 3074\u001b[0m     cell_name \u001b[38;5;241m=\u001b[39m \u001b[43mcompiler\u001b[49m\u001b[38;5;241;43m.\u001b[39;49m\u001b[43mcache\u001b[49m\u001b[43m(\u001b[49m\u001b[43mcell\u001b[49m\u001b[43m,\u001b[49m\u001b[43m \u001b[49m\u001b[38;5;28;43mself\u001b[39;49m\u001b[38;5;241;43m.\u001b[39;49m\u001b[43mexecution_count\u001b[49m\u001b[43m,\u001b[49m\u001b[43m \u001b[49m\u001b[43mraw_code\u001b[49m\u001b[38;5;241;43m=\u001b[39;49m\u001b[43mraw_cell\u001b[49m\u001b[43m)\u001b[49m\n\u001b[0;32m   3076\u001b[0m     \u001b[38;5;28;01mwith\u001b[39;00m \u001b[38;5;28mself\u001b[39m\u001b[38;5;241m.\u001b[39mdisplay_trap:\n\u001b[0;32m   3077\u001b[0m         \u001b[38;5;66;03m# Compile to bytecode\u001b[39;00m\n\u001b[0;32m   3078\u001b[0m         \u001b[38;5;28;01mtry\u001b[39;00m:\n",
      "File \u001b[1;32m~\\.conda\\envs\\geo_env\\lib\\site-packages\\IPython\\core\\compilerop.py:159\u001b[0m, in \u001b[0;36mCachingCompiler.cache\u001b[1;34m(self, transformed_code, number, raw_code)\u001b[0m\n\u001b[0;32m    156\u001b[0m \u001b[38;5;28;01mif\u001b[39;00m raw_code \u001b[38;5;129;01mis\u001b[39;00m \u001b[38;5;28;01mNone\u001b[39;00m:\n\u001b[0;32m    157\u001b[0m     raw_code \u001b[38;5;241m=\u001b[39m transformed_code\n\u001b[1;32m--> 159\u001b[0m name \u001b[38;5;241m=\u001b[39m \u001b[38;5;28;43mself\u001b[39;49m\u001b[38;5;241;43m.\u001b[39;49m\u001b[43mget_code_name\u001b[49m\u001b[43m(\u001b[49m\u001b[43mraw_code\u001b[49m\u001b[43m,\u001b[49m\u001b[43m \u001b[49m\u001b[43mtransformed_code\u001b[49m\u001b[43m,\u001b[49m\u001b[43m \u001b[49m\u001b[43mnumber\u001b[49m\u001b[43m)\u001b[49m\n\u001b[0;32m    161\u001b[0m \u001b[38;5;66;03m# Save the execution count\u001b[39;00m\n\u001b[0;32m    162\u001b[0m \u001b[38;5;28mself\u001b[39m\u001b[38;5;241m.\u001b[39m_filename_map[name] \u001b[38;5;241m=\u001b[39m number\n",
      "File \u001b[1;32m~\\.conda\\envs\\geo_env\\lib\\site-packages\\ipykernel\\compiler.py:97\u001b[0m, in \u001b[0;36mXCachingCompiler.get_code_name\u001b[1;34m(self, raw_code, code, number)\u001b[0m\n\u001b[0;32m     96\u001b[0m \u001b[38;5;28;01mdef\u001b[39;00m \u001b[38;5;21mget_code_name\u001b[39m(\u001b[38;5;28mself\u001b[39m, raw_code, code, number):\n\u001b[1;32m---> 97\u001b[0m     \u001b[38;5;28;01mreturn\u001b[39;00m \u001b[43mget_file_name\u001b[49m\u001b[43m(\u001b[49m\u001b[43mraw_code\u001b[49m\u001b[43m)\u001b[49m\n",
      "File \u001b[1;32m~\\.conda\\envs\\geo_env\\lib\\site-packages\\ipykernel\\compiler.py:87\u001b[0m, in \u001b[0;36mget_file_name\u001b[1;34m(code)\u001b[0m\n\u001b[0;32m     85\u001b[0m \u001b[38;5;28;01mif\u001b[39;00m cell_name \u001b[38;5;129;01mis\u001b[39;00m \u001b[38;5;28;01mNone\u001b[39;00m:\n\u001b[0;32m     86\u001b[0m     name \u001b[38;5;241m=\u001b[39m murmur2_x86(code, get_tmp_hash_seed())\n\u001b[1;32m---> 87\u001b[0m     cell_name \u001b[38;5;241m=\u001b[39m \u001b[43mget_tmp_directory\u001b[49m\u001b[43m(\u001b[49m\u001b[43m)\u001b[49m \u001b[38;5;241m+\u001b[39m os\u001b[38;5;241m.\u001b[39msep \u001b[38;5;241m+\u001b[39m \u001b[38;5;28mstr\u001b[39m(name) \u001b[38;5;241m+\u001b[39m \u001b[38;5;124m\"\u001b[39m\u001b[38;5;124m.py\u001b[39m\u001b[38;5;124m\"\u001b[39m\n\u001b[0;32m     88\u001b[0m \u001b[38;5;28;01mreturn\u001b[39;00m cell_name\n",
      "File \u001b[1;32m~\\.conda\\envs\\geo_env\\lib\\site-packages\\ipykernel\\compiler.py:73\u001b[0m, in \u001b[0;36mget_tmp_directory\u001b[1;34m()\u001b[0m\n\u001b[0;32m     72\u001b[0m \u001b[38;5;28;01mdef\u001b[39;00m \u001b[38;5;21mget_tmp_directory\u001b[39m():\n\u001b[1;32m---> 73\u001b[0m     tmp_dir \u001b[38;5;241m=\u001b[39m convert_to_long_pathname(\u001b[43mtempfile\u001b[49m\u001b[38;5;241;43m.\u001b[39;49m\u001b[43mgettempdir\u001b[49m\u001b[43m(\u001b[49m\u001b[43m)\u001b[49m)\n\u001b[0;32m     74\u001b[0m     pid \u001b[38;5;241m=\u001b[39m os\u001b[38;5;241m.\u001b[39mgetpid()\n\u001b[0;32m     75\u001b[0m     \u001b[38;5;28;01mreturn\u001b[39;00m tmp_dir \u001b[38;5;241m+\u001b[39m os\u001b[38;5;241m.\u001b[39msep \u001b[38;5;241m+\u001b[39m \u001b[38;5;124m\"\u001b[39m\u001b[38;5;124mipykernel_\u001b[39m\u001b[38;5;124m\"\u001b[39m \u001b[38;5;241m+\u001b[39m \u001b[38;5;28mstr\u001b[39m(pid)\n",
      "File \u001b[1;32m~\\.conda\\envs\\geo_env\\lib\\tempfile.py:299\u001b[0m, in \u001b[0;36mgettempdir\u001b[1;34m()\u001b[0m\n\u001b[0;32m    297\u001b[0m \u001b[38;5;28;01mdef\u001b[39;00m \u001b[38;5;21mgettempdir\u001b[39m():\n\u001b[0;32m    298\u001b[0m     \u001b[38;5;124;03m\"\"\"Returns tempfile.tempdir as str.\"\"\"\u001b[39;00m\n\u001b[1;32m--> 299\u001b[0m     \u001b[38;5;28;01mreturn\u001b[39;00m _os\u001b[38;5;241m.\u001b[39mfsdecode(\u001b[43m_gettempdir\u001b[49m\u001b[43m(\u001b[49m\u001b[43m)\u001b[49m)\n",
      "File \u001b[1;32m~\\.conda\\envs\\geo_env\\lib\\tempfile.py:292\u001b[0m, in \u001b[0;36m_gettempdir\u001b[1;34m()\u001b[0m\n\u001b[0;32m    290\u001b[0m \u001b[38;5;28;01mtry\u001b[39;00m:\n\u001b[0;32m    291\u001b[0m     \u001b[38;5;28;01mif\u001b[39;00m tempdir \u001b[38;5;129;01mis\u001b[39;00m \u001b[38;5;28;01mNone\u001b[39;00m:\n\u001b[1;32m--> 292\u001b[0m         tempdir \u001b[38;5;241m=\u001b[39m \u001b[43m_get_default_tempdir\u001b[49m\u001b[43m(\u001b[49m\u001b[43m)\u001b[49m\n\u001b[0;32m    293\u001b[0m \u001b[38;5;28;01mfinally\u001b[39;00m:\n\u001b[0;32m    294\u001b[0m     _once_lock\u001b[38;5;241m.\u001b[39mrelease()\n",
      "File \u001b[1;32m~\\.conda\\envs\\geo_env\\lib\\tempfile.py:203\u001b[0m, in \u001b[0;36m_get_default_tempdir\u001b[1;34m()\u001b[0m\n\u001b[0;32m    201\u001b[0m filename \u001b[38;5;241m=\u001b[39m _os\u001b[38;5;241m.\u001b[39mpath\u001b[38;5;241m.\u001b[39mjoin(\u001b[38;5;28mdir\u001b[39m, name)\n\u001b[0;32m    202\u001b[0m \u001b[38;5;28;01mtry\u001b[39;00m:\n\u001b[1;32m--> 203\u001b[0m     fd \u001b[38;5;241m=\u001b[39m \u001b[43m_os\u001b[49m\u001b[38;5;241;43m.\u001b[39;49m\u001b[43mopen\u001b[49m\u001b[43m(\u001b[49m\u001b[43mfilename\u001b[49m\u001b[43m,\u001b[49m\u001b[43m \u001b[49m\u001b[43m_bin_openflags\u001b[49m\u001b[43m,\u001b[49m\u001b[43m \u001b[49m\u001b[38;5;241;43m0o600\u001b[39;49m\u001b[43m)\u001b[49m\n\u001b[0;32m    204\u001b[0m     \u001b[38;5;28;01mtry\u001b[39;00m:\n\u001b[0;32m    205\u001b[0m         \u001b[38;5;28;01mtry\u001b[39;00m:\n",
      "\u001b[1;31mKeyboardInterrupt\u001b[0m: "
     ]
    }
   ],
   "source": [
    "import pandas as pd\n",
    "import numpy as np\n",
    "import glob\n",
    "import os\n",
    "import matplotlib.pyplot as plt\n",
    "%matplotlib inline\n",
    "import missingno as msno\n",
    "from datetime import timedelta\n"
   ]
  },
  {
   "cell_type": "code",
   "execution_count": null,
   "id": "96530013",
   "metadata": {},
   "outputs": [],
   "source": [
    "os.getcwd()\n",
    "os.chdir('C:\\\\Users\\\\IMEN\\\\Documents\\\\openclassroom\\\\formation openclassrooms\\\\projet5')"
   ]
  },
  {
   "cell_type": "markdown",
   "id": "0cff5c5c",
   "metadata": {},
   "source": [
    "### 1.Présentation des données"
   ]
  },
  {
   "cell_type": "code",
   "execution_count": null,
   "id": "f4edba04",
   "metadata": {},
   "outputs": [],
   "source": [
    "csv_files = glob.glob(os.path.join('datasets', \"*.csv\"))\n",
    "csv_files"
   ]
  },
  {
   "cell_type": "code",
   "execution_count": null,
   "id": "0f3dcbfa",
   "metadata": {},
   "outputs": [],
   "source": [
    "#9 dataframe (df1..df9)\n",
    "for i in range(len(csv_files)):   \n",
    "    data=pd.read_csv(csv_files[i])\n",
    "    globals()[f'df{i+1}'] =data\n",
    "    "
   ]
  },
  {
   "cell_type": "code",
   "execution_count": null,
   "id": "126dd8f9",
   "metadata": {},
   "outputs": [],
   "source": [
    "from IPython.display import Image\n",
    "Image(filename='HRhd2Y0.png',width = 600, height = 600)"
   ]
  },
  {
   "cell_type": "code",
   "execution_count": null,
   "id": "399a7689",
   "metadata": {},
   "outputs": [],
   "source": [
    "datasets=['olist_customers_dataset','olist_geolocation_dataset','olist_orders_dataset',\n",
    " 'olist_order_items_dataset.csv','olist_order_payments_dataset','olist_order_reviews_dataset',\n",
    " 'olist_products_dataset','olist_sellers_dataset']\n",
    "Descriptions=['informations sur le client et son emplacement',\n",
    "             ' informations sur les codes postaux brésiliens et leurs coordonnées','indormations sur les commandes',\n",
    "             'données sur les articles achetés dans chaque commande','données sur les options de paiement des commandes',\n",
    "             'données sur les évaluations faites par les clients',\n",
    "             'données sur les produits vendus par Olist','données sur les vendeurs qui ont exécuté les commandes passées sur Olist']\n",
    "dic={'Variable':['df1','df2','df3','df4','df5','df6','df7','df8'],'Dataset': datasets, 'Description': Descriptions}\n",
    "pd.set_option(\"display.max_colwidth\", None,'display.colheader_justify', 'center')\n",
    "data_description=pd.DataFrame(dic)\n",
    "data_description"
   ]
  },
  {
   "cell_type": "code",
   "execution_count": null,
   "id": "89699c7c",
   "metadata": {},
   "outputs": [],
   "source": [
    "ds=[df1,df2,df3,df4,df5,df6,df7,df8]"
   ]
  },
  {
   "cell_type": "code",
   "execution_count": null,
   "id": "31034af4",
   "metadata": {},
   "outputs": [],
   "source": [
    "\n",
    "for d in ds:\n",
    "    print(d.columns)\n",
    "    print('-'*20)\n",
    "    print(d.describe())\n",
    "    print('*'*100)"
   ]
  },
  {
   "cell_type": "markdown",
   "id": "703de0bc",
   "metadata": {},
   "source": [
    "#### Dataframes et valeurs nulles"
   ]
  },
  {
   "cell_type": "code",
   "execution_count": null,
   "id": "77692f30",
   "metadata": {},
   "outputs": [],
   "source": [
    "#msno.bar(df1):ok\n",
    "#msno.bar(df2):ok\n",
    "#msno.bar(df3)#contient des nan\n",
    "#msno.bar(df4)#ok\n",
    "#msno.bar(df5)#ok\n",
    "#msno.bar(df6)#contient des nan\n",
    "#msno.bar(df7)#contient des nan\n",
    "#msno.bar(df8)#ok"
   ]
  },
  {
   "cell_type": "code",
   "execution_count": null,
   "id": "1c988fcb",
   "metadata": {},
   "outputs": [],
   "source": [
    "#supprimer les lignes contenant des nan\n",
    "df3.dropna(axis=0,inplace=True)\n",
    "df7.dropna(axis=0,inplace=True)\n",
    "#pour df6 les colonnes contenant des nan sont review_comment_title et review_content_message ==>je supprime ces deux colonnes\n",
    "df6.dropna(axis=1,inplace=True)"
   ]
  },
  {
   "cell_type": "code",
   "execution_count": null,
   "id": "ba95b948",
   "metadata": {},
   "outputs": [],
   "source": [
    "\n",
    "for d in ds:\n",
    "    print(d.columns)\n",
    "    print('\\n')\n",
    "\n"
   ]
  },
  {
   "cell_type": "markdown",
   "id": "b3bc8df9",
   "metadata": {},
   "source": [
    "#### Dataframes et lignes dupliquées"
   ]
  },
  {
   "cell_type": "code",
   "execution_count": null,
   "id": "984cb850",
   "metadata": {},
   "outputs": [],
   "source": []
  },
  {
   "cell_type": "code",
   "execution_count": null,
   "id": "cc4b11aa",
   "metadata": {},
   "outputs": [],
   "source": [
    "#print('Entrées dupliquées: {}'.format(df1.duplicated().sum()))#0\n",
    "print('Entrées dupliquées: {}'.format(df2.duplicated().sum()))\n",
    "df2.drop_duplicates(inplace = True)\n",
    "#print('Entrées dupliquées: {}'.format(df3.duplicated().sum()))#0\n",
    "#print('Entrées dupliquées: {}'.format(df4.duplicated().sum()))#0\n",
    "#print('Entrées dupliquées: {}'.format(df5.duplicated().sum()))#0\n",
    "#print('Entrées dupliquées: {}'.format(df6.duplicated().sum()))#0\n",
    "#print('Entrées dupliquées: {}'.format(df7.duplicated().sum()))#0\n",
    "#print('Entrées dupliquées: {}'.format(df8.duplicated().sum()))#0"
   ]
  },
  {
   "cell_type": "markdown",
   "id": "60d5caa3",
   "metadata": {},
   "source": [
    "#### Dataframes et suppression de lignes"
   ]
  },
  {
   "cell_type": "code",
   "execution_count": null,
   "id": "f9349cfb",
   "metadata": {},
   "outputs": [],
   "source": [
    "#supprimer les commnandes annulées et non valables\n",
    "df3=df3[df3.order_status!='canceled']\n",
    "df3=df3[df3.order_status!='unavailable']"
   ]
  },
  {
   "cell_type": "code",
   "execution_count": null,
   "id": "38201708",
   "metadata": {},
   "outputs": [],
   "source": [
    "df3.order_status.unique()"
   ]
  },
  {
   "cell_type": "markdown",
   "id": "75159200",
   "metadata": {},
   "source": [
    "### Analyse exploratoire"
   ]
  },
  {
   "cell_type": "markdown",
   "id": "acca15ac",
   "metadata": {},
   "source": [
    "#### Nombre de commande par clients"
   ]
  },
  {
   "cell_type": "code",
   "execution_count": null,
   "id": "04461819",
   "metadata": {
    "scrolled": true
   },
   "outputs": [],
   "source": [
    "#nbre de commandes par client\n",
    "nb_order_per_customer=pd.DataFrame(df1.groupby('customer_unique_id')['customer_id'].count())\\\n",
    ".rename(columns={'customer_id':'Nb'}).reset_index()\n",
    "nb_order_per_customer"
   ]
  },
  {
   "cell_type": "code",
   "execution_count": null,
   "id": "69d333c1",
   "metadata": {},
   "outputs": [],
   "source": [
    "#Clients avec plusieurs commandes\n",
    "customer_with_many_orders=nb_order_per_customer[nb_order_per_customer['Nb']>1]\n",
    "per_cust_with_many_orders=round(100*customer_with_many_orders.shape[0]/nb_order_per_customer.shape[0],2)\n",
    "print(f'{per_cust_with_many_orders} % des clients ayant réalisés plusieurs commandes')"
   ]
  },
  {
   "cell_type": "code",
   "execution_count": null,
   "id": "6c9efdf8",
   "metadata": {},
   "outputs": [],
   "source": [
    "#Clients avec une seule commande\n",
    "customer_with_one_order=nb_order_per_customer[nb_order_per_customer['Nb']==1]\n",
    "per_cust_with_one_order=round(100*customer_with_one_order.shape[0]/nb_order_per_customer.shape[0],2)\n",
    "print(f'{per_cust_with_one_order} % des clients ayant réalisés une seule commande')"
   ]
  },
  {
   "cell_type": "code",
   "execution_count": null,
   "id": "1e47d7fc",
   "metadata": {},
   "outputs": [],
   "source": [
    "df12=df2.join(df1.set_index(['customer_zip_code_prefix','customer_city','customer_state']), on=['geolocation_zip_code_prefix', 'geolocation_city','geolocation_state'], how='right')\n",
    "df12"
   ]
  },
  {
   "cell_type": "code",
   "execution_count": null,
   "id": "73331c56",
   "metadata": {},
   "outputs": [],
   "source": [
    "# Géolocalisation des clients\n",
    "# map = folium.Map()\n",
    "# map = folium.Map(location=[df12['geolocation_lat'].mean(), df12['geolocation_lng'].mean()],zoom_start=10)\n",
    "# for i in range(0,len(df12)):\n",
    "#     folium.Circle([df12.iloc[i]['geolocation_lat'],df12.iloc[i]['geolocation_lng']], \n",
    "#                       popup=df12.iloc[i]['geolocation_city'], radius =100).add_to(map)\n",
    "# map"
   ]
  },
  {
   "cell_type": "markdown",
   "id": "735f12ef",
   "metadata": {},
   "source": [
    "#### Montants des commandes"
   ]
  },
  {
   "cell_type": "code",
   "execution_count": null,
   "id": "294f151e",
   "metadata": {},
   "outputs": [],
   "source": [
    "df4.price.describe()#Pour vérifier s'il ya des prix négatifs"
   ]
  },
  {
   "cell_type": "code",
   "execution_count": null,
   "id": "d44d475d",
   "metadata": {},
   "outputs": [],
   "source": [
    "#____________________\n",
    "# Décompte des achats\n",
    "price_range = [0, 50, 100, 200, 500, 1000, 10000]\n",
    "count_price = []\n",
    "for i, price in enumerate(price_range):\n",
    "    if i == 0: continue\n",
    "    val = df4[(df4.price < price) &\n",
    "                       (df4.price > price_range[i-1])]['price'].count()\n",
    "    count_price.append(val)\n",
    "#____________________________________________\n",
    "# Représentation du nombre d'achats / montant        \n",
    "plt.rc('font', weight='bold')\n",
    "f, ax = plt.subplots(figsize=(11, 6))\n",
    "colors = ['yellowgreen', 'gold', 'wheat', 'c', 'violet', 'royalblue','firebrick']\n",
    "labels = [ '{}<.<{}'.format(price_range[i-1], s) for i,s in enumerate(price_range) if i != 0]\n",
    "sizes  = count_price\n",
    "explode = [0.0 if sizes[i] < 100 else 0.0 for i in range(len(sizes))]\n",
    "\n",
    "ax.pie(sizes, explode = explode, labels=labels, colors = colors,\n",
    "       autopct = lambda x:'{:1.0f}%'.format(x) if x > 1 else '',\n",
    "       shadow = False, startangle=0)\n",
    "ax.axis('equal')\n",
    "f.text(0.5, 1.01, \"Répartition des montants des commandes\", ha='center', fontsize = 18);"
   ]
  },
  {
   "cell_type": "markdown",
   "id": "c4fbceb9",
   "metadata": {},
   "source": [
    "#### Catégories des produits"
   ]
  },
  {
   "cell_type": "code",
   "execution_count": null,
   "id": "e7517324",
   "metadata": {},
   "outputs": [],
   "source": [
    "df7.head()"
   ]
  },
  {
   "cell_type": "code",
   "execution_count": null,
   "id": "0c19fce8",
   "metadata": {},
   "outputs": [],
   "source": [
    "#Distribution des catégories des produits \n",
    "product_category=pd.DataFrame(df7.groupby('product_category_name')['product_category_name'].count().reset_index(name='counts'))\n",
    "product_category=product_category.sort_values(by='counts',ascending=True)\n",
    "product_category"
   ]
  },
  {
   "cell_type": "code",
   "execution_count": null,
   "id": "7ffc461f",
   "metadata": {},
   "outputs": [],
   "source": [
    "plt.rc('xtick',labelsize=14)\n",
    "plt.rc('ytick',labelsize=14)\n",
    "plt.style.use('ggplot')\n",
    "\n",
    "font_title = {'family': 'serif',\n",
    "              'color':  '#114b98',\n",
    "              'weight': 'bold',\n",
    "              'size': 18,\n",
    "             }\n",
    "fig = plt.figure(figsize=(21,40))\n",
    "product_category.plot( y='counts', x='product_category_name',kind='barh',figsize=(20,20))\n",
    "plt.title('Distribution des catégories de produits',fontdict=font_title)\n"
   ]
  },
  {
   "cell_type": "markdown",
   "id": "12050d1d",
   "metadata": {},
   "source": [
    "#### Création du datset commandes"
   ]
  },
  {
   "cell_type": "code",
   "execution_count": null,
   "id": "98059dea",
   "metadata": {},
   "outputs": [],
   "source": [
    "#Ici on crée un dataset nommée commande_dataset contenant toute les information d'une commande\n",
    "\n",
    "#jointure entre df1 et df3 (dataset products et dataset order)\n",
    "df13=pd.merge(df1,df3,on='customer_id')\n",
    "df13=df13[['customer_id', 'customer_unique_id','customer_city', 'customer_state', 'order_id', 'order_status',\n",
    "       'order_purchase_timestamp']]\n",
    "#df13.head()"
   ]
  },
  {
   "cell_type": "code",
   "execution_count": null,
   "id": "5430de55",
   "metadata": {},
   "outputs": [],
   "source": [
    "\n",
    "df134=pd.merge(df13,df4,on='order_id')\n",
    "df134=df134[['customer_id', 'customer_unique_id', 'customer_city', 'customer_state',\n",
    "       'order_id', 'order_status', 'order_purchase_timestamp', 'order_item_id',\n",
    "       'product_id', 'seller_id','price']]\n",
    "#df134.head()"
   ]
  },
  {
   "cell_type": "code",
   "execution_count": null,
   "id": "9fa1425a",
   "metadata": {},
   "outputs": [],
   "source": [
    "\n",
    "df1345=pd.merge(df134,df5,on='order_id')\n",
    "df1345=df1345[['customer_id', 'customer_unique_id', 'customer_city', 'customer_state',\n",
    "       'order_id', 'order_status', 'order_purchase_timestamp', 'order_item_id',\n",
    "       'product_id', 'seller_id', 'price','payment_type']]\n",
    "#df1345.head()"
   ]
  },
  {
   "cell_type": "code",
   "execution_count": null,
   "id": "c53f8a5b",
   "metadata": {},
   "outputs": [],
   "source": [
    "df13456=pd.merge(df1345,df6,on='order_id')\n",
    "df13456=df13456[['customer_id', 'customer_unique_id', 'customer_city', 'customer_state',\n",
    "       'order_id', 'order_status', 'order_purchase_timestamp', 'order_item_id',\n",
    "       'product_id', 'seller_id', 'price', 'payment_type', 'review_id',\n",
    "       'review_score']]\n",
    "#df13456.head()"
   ]
  },
  {
   "cell_type": "code",
   "execution_count": null,
   "id": "d23c3ded",
   "metadata": {},
   "outputs": [],
   "source": [
    "df134567=pd.merge(df13456,df7,on='product_id')\n",
    "df134567=df134567[['customer_id', 'customer_unique_id', 'customer_city', 'customer_state',\n",
    "       'order_id', 'order_status', 'order_purchase_timestamp', 'order_item_id',\n",
    "       'product_id', 'seller_id', 'price', 'payment_type', 'review_id',\n",
    "       'review_score', 'product_category_name']]\n",
    "#df134567.head()"
   ]
  },
  {
   "cell_type": "code",
   "execution_count": null,
   "id": "7ae1534a",
   "metadata": {},
   "outputs": [],
   "source": [
    "df1345678=pd.merge(df134567,df8,on='seller_id')\n",
    "#df1345678.columns"
   ]
  },
  {
   "cell_type": "code",
   "execution_count": null,
   "id": "efce8042",
   "metadata": {},
   "outputs": [],
   "source": [
    "commandes=df1345678"
   ]
  },
  {
   "cell_type": "code",
   "execution_count": null,
   "id": "a293c0b5",
   "metadata": {},
   "outputs": [],
   "source": [
    "msno.bar(commandes)"
   ]
  },
  {
   "cell_type": "markdown",
   "id": "9fb34e51",
   "metadata": {},
   "source": [
    "## Sauvegarde des données"
   ]
  },
  {
   "cell_type": "code",
   "execution_count": null,
   "id": "4691422f",
   "metadata": {},
   "outputs": [],
   "source": [
    "#print('Entrées dupliquées: {}'.format(commandes.duplicated().sum()))\n",
    "commandes.drop_duplicates(inplace = True)"
   ]
  },
  {
   "cell_type": "code",
   "execution_count": null,
   "id": "8982067c",
   "metadata": {},
   "outputs": [],
   "source": [
    "#Ici je vais garder le data set localisation df2\n",
    "df2.to_csv('geolocalisation_dataset.csv',index=False)\n",
    "commandes.to_csv('commandes_dataset.csv',index=False)\n",
    "#df2.to_csv('geolocalisation_dataset.csv', sep='\\t',index=False)"
   ]
  },
  {
   "cell_type": "code",
   "execution_count": null,
   "id": "9e173838",
   "metadata": {},
   "outputs": [],
   "source": []
  }
 ],
 "metadata": {
  "kernelspec": {
   "display_name": "Python 3 (ipykernel)",
   "language": "python",
   "name": "python3"
  },
  "language_info": {
   "codemirror_mode": {
    "name": "ipython",
    "version": 3
   },
   "file_extension": ".py",
   "mimetype": "text/x-python",
   "name": "python",
   "nbconvert_exporter": "python",
   "pygments_lexer": "ipython3",
   "version": "3.10.4"
  }
 },
 "nbformat": 4,
 "nbformat_minor": 5
}
