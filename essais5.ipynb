{
 "cells": [
  {
   "cell_type": "code",
   "execution_count": 45,
   "id": "183cd65c",
   "metadata": {},
   "outputs": [
    {
     "name": "stdout",
     "output_type": "stream",
     "text": [
      "Collecting kmodes\n",
      "  Downloading kmodes-0.12.2-py2.py3-none-any.whl (20 kB)\n",
      "Requirement already satisfied: scipy>=0.13.3 in c:\\users\\imen\\.conda\\envs\\geo_env\\lib\\site-packages (from kmodes) (1.8.0)\n",
      "Requirement already satisfied: joblib>=0.11 in c:\\users\\imen\\.conda\\envs\\geo_env\\lib\\site-packages (from kmodes) (1.1.0)\n",
      "Requirement already satisfied: numpy>=1.10.4 in c:\\users\\imen\\.conda\\envs\\geo_env\\lib\\site-packages (from kmodes) (1.22.3)\n",
      "Requirement already satisfied: scikit-learn>=0.22.0 in c:\\users\\imen\\.conda\\envs\\geo_env\\lib\\site-packages (from kmodes) (1.0.2)\n",
      "Requirement already satisfied: threadpoolctl>=2.0.0 in c:\\users\\imen\\.conda\\envs\\geo_env\\lib\\site-packages (from scikit-learn>=0.22.0->kmodes) (3.1.0)\n",
      "Installing collected packages: kmodes\n",
      "Successfully installed kmodes-0.12.2\n"
     ]
    }
   ],
   "source": [
    "#!pip install yellowbrick\n",
    "!pip install kmodes"
   ]
  },
  {
   "cell_type": "code",
   "execution_count": 3,
   "id": "40a5ed59",
   "metadata": {},
   "outputs": [],
   "source": [
    "import pandas as pd\n",
    "import numpy as np\n",
    "import missingno as msno\n",
    "import os\n",
    "from datetime import timedelta\n",
    "import matplotlib.pyplot as plt\n",
    "from matplotlib.gridspec import GridSpec\n",
    "import seaborn as sns\n",
    "from yellowbrick.cluster import KElbowVisualizer, SilhouetteVisualizer\n",
    "from sklearn.cluster import KMeans\n",
    "from sklearn.metrics import silhouette_score\n",
    "%matplotlib inline"
   ]
  },
  {
   "cell_type": "code",
   "execution_count": 4,
   "id": "207caaa1",
   "metadata": {},
   "outputs": [],
   "source": [
    "os.getcwd()\n",
    "os.chdir('C:\\\\Users\\\\IMEN\\\\Documents\\\\openclassroom\\\\formation openclassrooms\\\\projet5')"
   ]
  },
  {
   "cell_type": "code",
   "execution_count": 77,
   "id": "e26278ed",
   "metadata": {},
   "outputs": [],
   "source": [
    "def felbow_kprototypes(k_rng,data,index_categ_feat):\n",
    "    #Elbow technique\n",
    "    cost = [] \n",
    "    for cluster in k_rng: \n",
    "        print('{cluster}\\.cluster start'.format(cluster=cluster))\n",
    "        kproto = KPrototypes(n_clusters = cluster, init='Huang',n_jobs=-1,n_init=10,verbose=1)\n",
    "        kproto.fit(data, categorical=[index_categ_feat])\n",
    "        cost.append(kproto.cost_)\n",
    "      \n",
    "    plt.plot(k_rng,cost)\n",
    "    plt.xlabel('Number of clusters')\n",
    "    plt.ylabel('Cost')"
   ]
  },
  {
   "cell_type": "code",
   "execution_count": 5,
   "id": "eab0af4a",
   "metadata": {},
   "outputs": [],
   "source": [
    "def felbow(k_rng,data):\n",
    "    #Elbow technique\n",
    "    wcss = [] \n",
    "    for i in k_rng: \n",
    "        model = KMeans(n_clusters = i, init = 'k-means++', random_state = 42)\n",
    "        model.fit(data) \n",
    "        wcss.append(model.inertia_)\n",
    "    plt.plot(k_rng,wcss)\n",
    "    plt.xlabel('Number of clusters')\n",
    "    plt.ylabel('WCSS')"
   ]
  },
  {
   "cell_type": "code",
   "execution_count": 6,
   "id": "b61d59a2",
   "metadata": {},
   "outputs": [],
   "source": [
    "def fsilhouette(k_rng,data):\n",
    "    #Silhouette technique\n",
    "    sse_ = []\n",
    "    for k in k_rng:\n",
    "        kmeans = KMeans(n_clusters=k,init = 'k-means++', random_state = 42).fit(data)\n",
    "        sse_.append([k, silhouette_score(data, kmeans.labels_)])\n",
    "    plt.plot(pd.DataFrame(sse_)[0], pd.DataFrame(sse_)[1]);"
   ]
  },
  {
   "cell_type": "code",
   "execution_count": 7,
   "id": "e6e3949b",
   "metadata": {},
   "outputs": [],
   "source": [
    "def mean_clus_feat(df,group,feat):\n",
    "    df_mean=pd.DataFrame(df.groupby(group)[feat].mean()).rename(columns={feat:feat+'_mean'})\n",
    "    return df_mean"
   ]
  },
  {
   "cell_type": "code",
   "execution_count": 8,
   "id": "15db3431",
   "metadata": {},
   "outputs": [],
   "source": [
    "def fnb_customper_cluster(df):\n",
    "    customer_per_cluster=pd.DataFrame(df.groupby('ClusterID')['CustomerID'].count())\\\n",
    "                .rename(columns={'CustomerID':'nb_customers'}).reset_index()\n",
    "    return(customer_per_cluster)"
   ]
  },
  {
   "cell_type": "markdown",
   "id": "09107848",
   "metadata": {},
   "source": [
    "### 1.Description des données"
   ]
  },
  {
   "cell_type": "code",
   "execution_count": 9,
   "id": "9de7f51e",
   "metadata": {},
   "outputs": [],
   "source": [
    "df_cmd=pd.read_csv('commandes_dataset.csv')\n",
    "df_geo=pd.read_csv('geolocalisation_dataset.csv')\n"
   ]
  },
  {
   "cell_type": "code",
   "execution_count": 10,
   "id": "b2947c2f",
   "metadata": {},
   "outputs": [
    {
     "data": {
      "text/plain": [
       "(110845, 18)"
      ]
     },
     "execution_count": 10,
     "metadata": {},
     "output_type": "execute_result"
    }
   ],
   "source": [
    "df_cmd.shape"
   ]
  },
  {
   "cell_type": "code",
   "execution_count": 11,
   "id": "50f96958",
   "metadata": {},
   "outputs": [
    {
     "data": {
      "text/plain": [
       "Index(['customer_id', 'customer_unique_id', 'customer_city', 'customer_state',\n",
       "       'order_id', 'order_status', 'order_purchase_timestamp', 'order_item_id',\n",
       "       'product_id', 'seller_id', 'price', 'payment_type', 'review_id',\n",
       "       'review_score', 'product_category_name', 'seller_zip_code_prefix',\n",
       "       'seller_city', 'seller_state'],\n",
       "      dtype='object')"
      ]
     },
     "execution_count": 11,
     "metadata": {},
     "output_type": "execute_result"
    }
   ],
   "source": [
    "df_cmd.columns"
   ]
  },
  {
   "cell_type": "code",
   "execution_count": 12,
   "id": "a1b351ee",
   "metadata": {},
   "outputs": [
    {
     "data": {
      "text/plain": [
       "0"
      ]
     },
     "execution_count": 12,
     "metadata": {},
     "output_type": "execute_result"
    }
   ],
   "source": [
    "df_cmd.duplicated().sum()"
   ]
  },
  {
   "cell_type": "code",
   "execution_count": 13,
   "id": "4229e7b9",
   "metadata": {},
   "outputs": [],
   "source": [
    "df_cmd_initial=df_cmd.copy()"
   ]
  },
  {
   "cell_type": "code",
   "execution_count": 14,
   "id": "c8f8af32",
   "metadata": {},
   "outputs": [
    {
     "data": {
      "text/plain": [
       "91478"
      ]
     },
     "execution_count": 14,
     "metadata": {},
     "output_type": "execute_result"
    }
   ],
   "source": [
    "df_cmd['customer_unique_id'].nunique()"
   ]
  },
  {
   "cell_type": "markdown",
   "id": "5c531808",
   "metadata": {},
   "source": [
    "### 2.Feature engineering"
   ]
  },
  {
   "cell_type": "markdown",
   "id": "e65bd626",
   "metadata": {},
   "source": [
    "#### Fréquence : combien de fois chaque   client a-t-il effectué un achat ?"
   ]
  },
  {
   "cell_type": "code",
   "execution_count": 15,
   "id": "0bd612c3",
   "metadata": {},
   "outputs": [
    {
     "data": {
      "text/plain": [
       "(91478, 2)"
      ]
     },
     "execution_count": 15,
     "metadata": {},
     "output_type": "execute_result"
    }
   ],
   "source": [
    "#nbre de commandes par client\n",
    "nb_order_per_customer=pd.DataFrame(df_cmd.groupby('customer_unique_id')['customer_id'].count())\\\n",
    ".rename(columns={'customer_id':'frequency'}).reset_index()\n",
    "nb_order_per_customer\n",
    "freq=nb_order_per_customer\n",
    "freq.shape\n",
    "#df_cmd['frequency']=nb_order_per_customer['frequency']\n",
    "#msno.bar(df_cmd)"
   ]
  },
  {
   "cell_type": "markdown",
   "id": "133d926e",
   "metadata": {},
   "source": [
    "#### Récence d'un client : à quel moment un client a effectué un dernier achat?"
   ]
  },
  {
   "cell_type": "code",
   "execution_count": 16,
   "id": "9e91c25e",
   "metadata": {},
   "outputs": [
    {
     "data": {
      "text/html": [
       "<div>\n",
       "<style scoped>\n",
       "    .dataframe tbody tr th:only-of-type {\n",
       "        vertical-align: middle;\n",
       "    }\n",
       "\n",
       "    .dataframe tbody tr th {\n",
       "        vertical-align: top;\n",
       "    }\n",
       "\n",
       "    .dataframe thead th {\n",
       "        text-align: right;\n",
       "    }\n",
       "</style>\n",
       "<table border=\"1\" class=\"dataframe\">\n",
       "  <thead>\n",
       "    <tr style=\"text-align: right;\">\n",
       "      <th></th>\n",
       "      <th>customer_unique_id</th>\n",
       "      <th>frequency</th>\n",
       "      <th>last_purshase_date</th>\n",
       "    </tr>\n",
       "  </thead>\n",
       "  <tbody>\n",
       "    <tr>\n",
       "      <th>0</th>\n",
       "      <td>0000366f3b9a7992bf8c76cfdf3221e2</td>\n",
       "      <td>1</td>\n",
       "      <td>2018-05-10 10:56:27</td>\n",
       "    </tr>\n",
       "    <tr>\n",
       "      <th>1</th>\n",
       "      <td>0000b849f77a49e4a4ce2b2a4ca5be3f</td>\n",
       "      <td>1</td>\n",
       "      <td>2018-05-07 11:11:27</td>\n",
       "    </tr>\n",
       "    <tr>\n",
       "      <th>2</th>\n",
       "      <td>0000f46a3911fa3c0805444483337064</td>\n",
       "      <td>1</td>\n",
       "      <td>2017-03-10 21:05:03</td>\n",
       "    </tr>\n",
       "    <tr>\n",
       "      <th>3</th>\n",
       "      <td>0000f6ccb0745a6a4b88665a16c9f078</td>\n",
       "      <td>1</td>\n",
       "      <td>2017-10-12 20:29:41</td>\n",
       "    </tr>\n",
       "    <tr>\n",
       "      <th>4</th>\n",
       "      <td>0004aac84e0df4da2b147fca70cf8255</td>\n",
       "      <td>1</td>\n",
       "      <td>2017-11-14 19:45:42</td>\n",
       "    </tr>\n",
       "    <tr>\n",
       "      <th>...</th>\n",
       "      <td>...</td>\n",
       "      <td>...</td>\n",
       "      <td>...</td>\n",
       "    </tr>\n",
       "    <tr>\n",
       "      <th>91473</th>\n",
       "      <td>fffcf5a5ff07b0908bd4e2dbc735a684</td>\n",
       "      <td>2</td>\n",
       "      <td>2017-06-08 21:00:36</td>\n",
       "    </tr>\n",
       "    <tr>\n",
       "      <th>91474</th>\n",
       "      <td>fffea47cd6d3cc0a88bd621562a9d061</td>\n",
       "      <td>1</td>\n",
       "      <td>2017-12-10 20:07:56</td>\n",
       "    </tr>\n",
       "    <tr>\n",
       "      <th>91475</th>\n",
       "      <td>ffff371b4d645b6ecea244b27531430a</td>\n",
       "      <td>1</td>\n",
       "      <td>2017-02-07 15:49:16</td>\n",
       "    </tr>\n",
       "    <tr>\n",
       "      <th>91476</th>\n",
       "      <td>ffff5962728ec6157033ef9805bacc48</td>\n",
       "      <td>1</td>\n",
       "      <td>2018-05-02 15:17:41</td>\n",
       "    </tr>\n",
       "    <tr>\n",
       "      <th>91477</th>\n",
       "      <td>ffffd2657e2aad2907e67c3e9daecbeb</td>\n",
       "      <td>1</td>\n",
       "      <td>2017-05-02 20:18:45</td>\n",
       "    </tr>\n",
       "  </tbody>\n",
       "</table>\n",
       "<p>91478 rows × 3 columns</p>\n",
       "</div>"
      ],
      "text/plain": [
       "                     customer_unique_id  frequency  last_purshase_date\n",
       "0      0000366f3b9a7992bf8c76cfdf3221e2          1 2018-05-10 10:56:27\n",
       "1      0000b849f77a49e4a4ce2b2a4ca5be3f          1 2018-05-07 11:11:27\n",
       "2      0000f46a3911fa3c0805444483337064          1 2017-03-10 21:05:03\n",
       "3      0000f6ccb0745a6a4b88665a16c9f078          1 2017-10-12 20:29:41\n",
       "4      0004aac84e0df4da2b147fca70cf8255          1 2017-11-14 19:45:42\n",
       "...                                 ...        ...                 ...\n",
       "91473  fffcf5a5ff07b0908bd4e2dbc735a684          2 2017-06-08 21:00:36\n",
       "91474  fffea47cd6d3cc0a88bd621562a9d061          1 2017-12-10 20:07:56\n",
       "91475  ffff371b4d645b6ecea244b27531430a          1 2017-02-07 15:49:16\n",
       "91476  ffff5962728ec6157033ef9805bacc48          1 2018-05-02 15:17:41\n",
       "91477  ffffd2657e2aad2907e67c3e9daecbeb          1 2017-05-02 20:18:45\n",
       "\n",
       "[91478 rows x 3 columns]"
      ]
     },
     "execution_count": 16,
     "metadata": {},
     "output_type": "execute_result"
    }
   ],
   "source": [
    "#Ici on détermine à quel moment un client a effectué un dernier achat\n",
    "# convertir la date d'achat en format datetime \n",
    "df_cmd['order_purchase_timestamp']= pd.to_datetime(df_cmd['order_purchase_timestamp'])\n",
    "# la date NOW à un jour après le dernier achat. \n",
    "NOW = df_cmd['order_purchase_timestamp'].max() + timedelta(days=1)\n",
    "rec=pd.DataFrame(df_cmd.groupby('customer_unique_id')['order_purchase_timestamp'].max())\\\n",
    ".rename(columns={'order_purchase_timestamp':'last_purshase_date'}).reset_index()\n",
    "\n",
    "freq_rec=pd.merge(freq,rec,on='customer_unique_id')\n",
    "freq_rec\n"
   ]
  },
  {
   "cell_type": "code",
   "execution_count": null,
   "id": "5c2f2d52",
   "metadata": {},
   "outputs": [],
   "source": []
  },
  {
   "cell_type": "markdown",
   "id": "f4612aff",
   "metadata": {},
   "source": [
    "\n",
    "#### Montant"
   ]
  },
  {
   "cell_type": "code",
   "execution_count": 17,
   "id": "8862a948",
   "metadata": {},
   "outputs": [
    {
     "data": {
      "text/plain": [
       "(91478, 2)"
      ]
     },
     "execution_count": 17,
     "metadata": {},
     "output_type": "execute_result"
    }
   ],
   "source": [
    "amount=pd.DataFrame(df_cmd.groupby('customer_unique_id')['price'].sum())\\\n",
    ".rename(columns={'price':'total_price'}).reset_index()\n",
    "amount.shape"
   ]
  },
  {
   "cell_type": "code",
   "execution_count": 18,
   "id": "f3183b32",
   "metadata": {},
   "outputs": [
    {
     "data": {
      "text/plain": [
       "(91478, 4)"
      ]
     },
     "execution_count": 18,
     "metadata": {},
     "output_type": "execute_result"
    }
   ],
   "source": [
    "freq_rec_m=pd.merge(freq_rec,amount,on='customer_unique_id',how='inner')\n",
    "\n",
    "freq_rec_m.shape"
   ]
  },
  {
   "cell_type": "code",
   "execution_count": 19,
   "id": "245665b6",
   "metadata": {},
   "outputs": [
    {
     "data": {
      "text/html": [
       "<div>\n",
       "<style scoped>\n",
       "    .dataframe tbody tr th:only-of-type {\n",
       "        vertical-align: middle;\n",
       "    }\n",
       "\n",
       "    .dataframe tbody tr th {\n",
       "        vertical-align: top;\n",
       "    }\n",
       "\n",
       "    .dataframe thead th {\n",
       "        text-align: right;\n",
       "    }\n",
       "</style>\n",
       "<table border=\"1\" class=\"dataframe\">\n",
       "  <thead>\n",
       "    <tr style=\"text-align: right;\">\n",
       "      <th></th>\n",
       "      <th>customer_unique_id</th>\n",
       "      <th>frequency</th>\n",
       "      <th>last_purshase_date</th>\n",
       "      <th>total_price</th>\n",
       "    </tr>\n",
       "  </thead>\n",
       "  <tbody>\n",
       "    <tr>\n",
       "      <th>0</th>\n",
       "      <td>0000366f3b9a7992bf8c76cfdf3221e2</td>\n",
       "      <td>1</td>\n",
       "      <td>2018-05-10 10:56:27</td>\n",
       "      <td>129.90</td>\n",
       "    </tr>\n",
       "    <tr>\n",
       "      <th>1</th>\n",
       "      <td>0000b849f77a49e4a4ce2b2a4ca5be3f</td>\n",
       "      <td>1</td>\n",
       "      <td>2018-05-07 11:11:27</td>\n",
       "      <td>18.90</td>\n",
       "    </tr>\n",
       "    <tr>\n",
       "      <th>2</th>\n",
       "      <td>0000f46a3911fa3c0805444483337064</td>\n",
       "      <td>1</td>\n",
       "      <td>2017-03-10 21:05:03</td>\n",
       "      <td>69.00</td>\n",
       "    </tr>\n",
       "    <tr>\n",
       "      <th>3</th>\n",
       "      <td>0000f6ccb0745a6a4b88665a16c9f078</td>\n",
       "      <td>1</td>\n",
       "      <td>2017-10-12 20:29:41</td>\n",
       "      <td>25.99</td>\n",
       "    </tr>\n",
       "    <tr>\n",
       "      <th>4</th>\n",
       "      <td>0004aac84e0df4da2b147fca70cf8255</td>\n",
       "      <td>1</td>\n",
       "      <td>2017-11-14 19:45:42</td>\n",
       "      <td>180.00</td>\n",
       "    </tr>\n",
       "  </tbody>\n",
       "</table>\n",
       "</div>"
      ],
      "text/plain": [
       "                 customer_unique_id  frequency  last_purshase_date  \\\n",
       "0  0000366f3b9a7992bf8c76cfdf3221e2          1 2018-05-10 10:56:27   \n",
       "1  0000b849f77a49e4a4ce2b2a4ca5be3f          1 2018-05-07 11:11:27   \n",
       "2  0000f46a3911fa3c0805444483337064          1 2017-03-10 21:05:03   \n",
       "3  0000f6ccb0745a6a4b88665a16c9f078          1 2017-10-12 20:29:41   \n",
       "4  0004aac84e0df4da2b147fca70cf8255          1 2017-11-14 19:45:42   \n",
       "\n",
       "   total_price  \n",
       "0       129.90  \n",
       "1        18.90  \n",
       "2        69.00  \n",
       "3        25.99  \n",
       "4       180.00  "
      ]
     },
     "execution_count": 19,
     "metadata": {},
     "output_type": "execute_result"
    }
   ],
   "source": [
    "freq_rec_m.head()"
   ]
  },
  {
   "cell_type": "code",
   "execution_count": 20,
   "id": "37534caf",
   "metadata": {},
   "outputs": [
    {
     "data": {
      "text/html": [
       "<div>\n",
       "<style scoped>\n",
       "    .dataframe tbody tr th:only-of-type {\n",
       "        vertical-align: middle;\n",
       "    }\n",
       "\n",
       "    .dataframe tbody tr th {\n",
       "        vertical-align: top;\n",
       "    }\n",
       "\n",
       "    .dataframe thead th {\n",
       "        text-align: right;\n",
       "    }\n",
       "</style>\n",
       "<table border=\"1\" class=\"dataframe\">\n",
       "  <thead>\n",
       "    <tr style=\"text-align: right;\">\n",
       "      <th></th>\n",
       "      <th>customer_unique_id</th>\n",
       "      <th>frequency</th>\n",
       "      <th>last_purshase_date</th>\n",
       "      <th>total_price</th>\n",
       "      <th>DaysSinceOrder</th>\n",
       "    </tr>\n",
       "  </thead>\n",
       "  <tbody>\n",
       "    <tr>\n",
       "      <th>0</th>\n",
       "      <td>0000366f3b9a7992bf8c76cfdf3221e2</td>\n",
       "      <td>1</td>\n",
       "      <td>2018-05-10 10:56:27</td>\n",
       "      <td>129.90</td>\n",
       "      <td>112</td>\n",
       "    </tr>\n",
       "    <tr>\n",
       "      <th>1</th>\n",
       "      <td>0000b849f77a49e4a4ce2b2a4ca5be3f</td>\n",
       "      <td>1</td>\n",
       "      <td>2018-05-07 11:11:27</td>\n",
       "      <td>18.90</td>\n",
       "      <td>115</td>\n",
       "    </tr>\n",
       "    <tr>\n",
       "      <th>2</th>\n",
       "      <td>0000f46a3911fa3c0805444483337064</td>\n",
       "      <td>1</td>\n",
       "      <td>2017-03-10 21:05:03</td>\n",
       "      <td>69.00</td>\n",
       "      <td>537</td>\n",
       "    </tr>\n",
       "    <tr>\n",
       "      <th>3</th>\n",
       "      <td>0000f6ccb0745a6a4b88665a16c9f078</td>\n",
       "      <td>1</td>\n",
       "      <td>2017-10-12 20:29:41</td>\n",
       "      <td>25.99</td>\n",
       "      <td>321</td>\n",
       "    </tr>\n",
       "    <tr>\n",
       "      <th>4</th>\n",
       "      <td>0004aac84e0df4da2b147fca70cf8255</td>\n",
       "      <td>1</td>\n",
       "      <td>2017-11-14 19:45:42</td>\n",
       "      <td>180.00</td>\n",
       "      <td>288</td>\n",
       "    </tr>\n",
       "  </tbody>\n",
       "</table>\n",
       "</div>"
      ],
      "text/plain": [
       "                 customer_unique_id  frequency  last_purshase_date  \\\n",
       "0  0000366f3b9a7992bf8c76cfdf3221e2          1 2018-05-10 10:56:27   \n",
       "1  0000b849f77a49e4a4ce2b2a4ca5be3f          1 2018-05-07 11:11:27   \n",
       "2  0000f46a3911fa3c0805444483337064          1 2017-03-10 21:05:03   \n",
       "3  0000f6ccb0745a6a4b88665a16c9f078          1 2017-10-12 20:29:41   \n",
       "4  0004aac84e0df4da2b147fca70cf8255          1 2017-11-14 19:45:42   \n",
       "\n",
       "   total_price  DaysSinceOrder  \n",
       "0       129.90             112  \n",
       "1        18.90             115  \n",
       "2        69.00             537  \n",
       "3        25.99             321  \n",
       "4       180.00             288  "
      ]
     },
     "execution_count": 20,
     "metadata": {},
     "output_type": "execute_result"
    }
   ],
   "source": [
    "freq_rec_m['DaysSinceOrder'] = freq_rec_m['last_purshase_date'].apply(lambda x: (NOW - x).days)\n",
    "freq_rec_m.head()"
   ]
  },
  {
   "cell_type": "code",
   "execution_count": 21,
   "id": "353b3243",
   "metadata": {},
   "outputs": [
    {
     "data": {
      "text/html": [
       "<div>\n",
       "<style scoped>\n",
       "    .dataframe tbody tr th:only-of-type {\n",
       "        vertical-align: middle;\n",
       "    }\n",
       "\n",
       "    .dataframe tbody tr th {\n",
       "        vertical-align: top;\n",
       "    }\n",
       "\n",
       "    .dataframe thead th {\n",
       "        text-align: right;\n",
       "    }\n",
       "</style>\n",
       "<table border=\"1\" class=\"dataframe\">\n",
       "  <thead>\n",
       "    <tr style=\"text-align: right;\">\n",
       "      <th></th>\n",
       "      <th>customer_unique_id</th>\n",
       "      <th>Frequency</th>\n",
       "      <th>Recency</th>\n",
       "      <th>Monetary</th>\n",
       "    </tr>\n",
       "  </thead>\n",
       "  <tbody>\n",
       "    <tr>\n",
       "      <th>0</th>\n",
       "      <td>0000366f3b9a7992bf8c76cfdf3221e2</td>\n",
       "      <td>1</td>\n",
       "      <td>112</td>\n",
       "      <td>129.90</td>\n",
       "    </tr>\n",
       "    <tr>\n",
       "      <th>1</th>\n",
       "      <td>0000b849f77a49e4a4ce2b2a4ca5be3f</td>\n",
       "      <td>1</td>\n",
       "      <td>115</td>\n",
       "      <td>18.90</td>\n",
       "    </tr>\n",
       "    <tr>\n",
       "      <th>2</th>\n",
       "      <td>0000f46a3911fa3c0805444483337064</td>\n",
       "      <td>1</td>\n",
       "      <td>537</td>\n",
       "      <td>69.00</td>\n",
       "    </tr>\n",
       "    <tr>\n",
       "      <th>3</th>\n",
       "      <td>0000f6ccb0745a6a4b88665a16c9f078</td>\n",
       "      <td>1</td>\n",
       "      <td>321</td>\n",
       "      <td>25.99</td>\n",
       "    </tr>\n",
       "    <tr>\n",
       "      <th>4</th>\n",
       "      <td>0004aac84e0df4da2b147fca70cf8255</td>\n",
       "      <td>1</td>\n",
       "      <td>288</td>\n",
       "      <td>180.00</td>\n",
       "    </tr>\n",
       "    <tr>\n",
       "      <th>...</th>\n",
       "      <td>...</td>\n",
       "      <td>...</td>\n",
       "      <td>...</td>\n",
       "      <td>...</td>\n",
       "    </tr>\n",
       "    <tr>\n",
       "      <th>91473</th>\n",
       "      <td>fffcf5a5ff07b0908bd4e2dbc735a684</td>\n",
       "      <td>2</td>\n",
       "      <td>447</td>\n",
       "      <td>1570.00</td>\n",
       "    </tr>\n",
       "    <tr>\n",
       "      <th>91474</th>\n",
       "      <td>fffea47cd6d3cc0a88bd621562a9d061</td>\n",
       "      <td>1</td>\n",
       "      <td>262</td>\n",
       "      <td>64.89</td>\n",
       "    </tr>\n",
       "    <tr>\n",
       "      <th>91475</th>\n",
       "      <td>ffff371b4d645b6ecea244b27531430a</td>\n",
       "      <td>1</td>\n",
       "      <td>568</td>\n",
       "      <td>89.90</td>\n",
       "    </tr>\n",
       "    <tr>\n",
       "      <th>91476</th>\n",
       "      <td>ffff5962728ec6157033ef9805bacc48</td>\n",
       "      <td>1</td>\n",
       "      <td>119</td>\n",
       "      <td>115.00</td>\n",
       "    </tr>\n",
       "    <tr>\n",
       "      <th>91477</th>\n",
       "      <td>ffffd2657e2aad2907e67c3e9daecbeb</td>\n",
       "      <td>1</td>\n",
       "      <td>484</td>\n",
       "      <td>56.99</td>\n",
       "    </tr>\n",
       "  </tbody>\n",
       "</table>\n",
       "<p>91478 rows × 4 columns</p>\n",
       "</div>"
      ],
      "text/plain": [
       "                     customer_unique_id  Frequency  Recency  Monetary\n",
       "0      0000366f3b9a7992bf8c76cfdf3221e2          1      112    129.90\n",
       "1      0000b849f77a49e4a4ce2b2a4ca5be3f          1      115     18.90\n",
       "2      0000f46a3911fa3c0805444483337064          1      537     69.00\n",
       "3      0000f6ccb0745a6a4b88665a16c9f078          1      321     25.99\n",
       "4      0004aac84e0df4da2b147fca70cf8255          1      288    180.00\n",
       "...                                 ...        ...      ...       ...\n",
       "91473  fffcf5a5ff07b0908bd4e2dbc735a684          2      447   1570.00\n",
       "91474  fffea47cd6d3cc0a88bd621562a9d061          1      262     64.89\n",
       "91475  ffff371b4d645b6ecea244b27531430a          1      568     89.90\n",
       "91476  ffff5962728ec6157033ef9805bacc48          1      119    115.00\n",
       "91477  ffffd2657e2aad2907e67c3e9daecbeb          1      484     56.99\n",
       "\n",
       "[91478 rows x 4 columns]"
      ]
     },
     "execution_count": 21,
     "metadata": {},
     "output_type": "execute_result"
    }
   ],
   "source": [
    "RFM=freq_rec_m[['customer_unique_id','frequency','DaysSinceOrder','total_price']].rename(columns={'frequency':'Frequency','DaysSinceOrder':'Recency','total_price':'Monetary'})\n",
    "\n",
    "RFM"
   ]
  },
  {
   "cell_type": "code",
   "execution_count": 22,
   "id": "66cf2e64",
   "metadata": {},
   "outputs": [],
   "source": [
    "#plt.boxplot(RFM.Monetary)"
   ]
  },
  {
   "cell_type": "code",
   "execution_count": 23,
   "id": "adaed7c2",
   "metadata": {},
   "outputs": [
    {
     "data": {
      "text/html": [
       "<div>\n",
       "<style scoped>\n",
       "    .dataframe tbody tr th:only-of-type {\n",
       "        vertical-align: middle;\n",
       "    }\n",
       "\n",
       "    .dataframe tbody tr th {\n",
       "        vertical-align: top;\n",
       "    }\n",
       "\n",
       "    .dataframe thead th {\n",
       "        text-align: right;\n",
       "    }\n",
       "</style>\n",
       "<table border=\"1\" class=\"dataframe\">\n",
       "  <thead>\n",
       "    <tr style=\"text-align: right;\">\n",
       "      <th></th>\n",
       "      <th>Recency</th>\n",
       "      <th>Frequency</th>\n",
       "      <th>Monetary</th>\n",
       "    </tr>\n",
       "  </thead>\n",
       "  <tbody>\n",
       "    <tr>\n",
       "      <th>mean</th>\n",
       "      <td>237.047662</td>\n",
       "      <td>1.211712</td>\n",
       "      <td>144.949038</td>\n",
       "    </tr>\n",
       "  </tbody>\n",
       "</table>\n",
       "</div>"
      ],
      "text/plain": [
       "         Recency  Frequency    Monetary\n",
       "mean  237.047662   1.211712  144.949038"
      ]
     },
     "execution_count": 23,
     "metadata": {},
     "output_type": "execute_result"
    }
   ],
   "source": [
    "RFM[[\"Recency\", \"Frequency\", \"Monetary\"]].agg([\"mean\"])"
   ]
  },
  {
   "cell_type": "code",
   "execution_count": 24,
   "id": "c6158110",
   "metadata": {},
   "outputs": [
    {
     "data": {
      "text/html": [
       "<div>\n",
       "<style scoped>\n",
       "    .dataframe tbody tr th:only-of-type {\n",
       "        vertical-align: middle;\n",
       "    }\n",
       "\n",
       "    .dataframe tbody tr th {\n",
       "        vertical-align: top;\n",
       "    }\n",
       "\n",
       "    .dataframe thead th {\n",
       "        text-align: right;\n",
       "    }\n",
       "</style>\n",
       "<table border=\"1\" class=\"dataframe\">\n",
       "  <thead>\n",
       "    <tr style=\"text-align: right;\">\n",
       "      <th></th>\n",
       "      <th>Frequency</th>\n",
       "      <th>Recency</th>\n",
       "      <th>Monetary</th>\n",
       "    </tr>\n",
       "  </thead>\n",
       "  <tbody>\n",
       "    <tr>\n",
       "      <th>count</th>\n",
       "      <td>91478.000000</td>\n",
       "      <td>91478.000000</td>\n",
       "      <td>91478.000000</td>\n",
       "    </tr>\n",
       "    <tr>\n",
       "      <th>mean</th>\n",
       "      <td>1.211712</td>\n",
       "      <td>237.047662</td>\n",
       "      <td>144.949038</td>\n",
       "    </tr>\n",
       "    <tr>\n",
       "      <th>std</th>\n",
       "      <td>0.679484</td>\n",
       "      <td>152.560470</td>\n",
       "      <td>220.997009</td>\n",
       "    </tr>\n",
       "    <tr>\n",
       "      <th>min</th>\n",
       "      <td>1.000000</td>\n",
       "      <td>1.000000</td>\n",
       "      <td>0.850000</td>\n",
       "    </tr>\n",
       "    <tr>\n",
       "      <th>25%</th>\n",
       "      <td>1.000000</td>\n",
       "      <td>114.000000</td>\n",
       "      <td>48.900000</td>\n",
       "    </tr>\n",
       "    <tr>\n",
       "      <th>50%</th>\n",
       "      <td>1.000000</td>\n",
       "      <td>218.000000</td>\n",
       "      <td>89.900000</td>\n",
       "    </tr>\n",
       "    <tr>\n",
       "      <th>75%</th>\n",
       "      <td>1.000000</td>\n",
       "      <td>345.000000</td>\n",
       "      <td>159.000000</td>\n",
       "    </tr>\n",
       "    <tr>\n",
       "      <th>max</th>\n",
       "      <td>24.000000</td>\n",
       "      <td>695.000000</td>\n",
       "      <td>13440.000000</td>\n",
       "    </tr>\n",
       "  </tbody>\n",
       "</table>\n",
       "</div>"
      ],
      "text/plain": [
       "          Frequency       Recency      Monetary\n",
       "count  91478.000000  91478.000000  91478.000000\n",
       "mean       1.211712    237.047662    144.949038\n",
       "std        0.679484    152.560470    220.997009\n",
       "min        1.000000      1.000000      0.850000\n",
       "25%        1.000000    114.000000     48.900000\n",
       "50%        1.000000    218.000000     89.900000\n",
       "75%        1.000000    345.000000    159.000000\n",
       "max       24.000000    695.000000  13440.000000"
      ]
     },
     "execution_count": 24,
     "metadata": {},
     "output_type": "execute_result"
    }
   ],
   "source": [
    "RFM.describe()"
   ]
  },
  {
   "cell_type": "markdown",
   "id": "2659d38e",
   "metadata": {},
   "source": [
    "**Observations**<br>\n",
    "-La moyenne de la récnce est ~237j <br>\n",
    "-en moyenne un client achète un article 1 fois(1.2)<br>\n",
    "-et dépensant un prix unitaire moyen de 144.94 (unié de prix).\n"
   ]
  },
  {
   "cell_type": "code",
   "execution_count": 25,
   "id": "8c023f38",
   "metadata": {},
   "outputs": [
    {
     "data": {
      "image/png": "[encoded data removed]",
      "text/plain": [
       "<Figure size 1440x360 with 3 Axes>"
      ]
     },
     "metadata": {
      "needs_background": "light"
     },
     "output_type": "display_data"
    }
   ],
   "source": [
    "#Visualizing the Recency, Frequency and Monetary distributions.\n",
    "i = 0\n",
    "fig = plt.figure(constrained_layout = True,figsize = (20,5))\n",
    "gs = GridSpec(1, 3, figure=fig)    \n",
    "\n",
    "col = ['red','blue','green']\n",
    "for var in list(RFM.columns[1:4]):\n",
    "    plt.subplot(gs[0,i])\n",
    "    sns.histplot(RFM[var],color= col[i],kde=True,bins=20)\n",
    "    plt.title('Skewness ' + ': ' + round(RFM[var].skew(),2).astype(str))\n",
    "    i= i+1"
   ]
  },
  {
   "cell_type": "markdown",
   "id": "7f510d66",
   "metadata": {},
   "source": [
    "**Observations**<br>\n",
    "les données relatives à la fréquence et au pouvoir d'achat sont relativement asymétriques"
   ]
  },
  {
   "cell_type": "code",
   "execution_count": 26,
   "id": "0cf04a54",
   "metadata": {},
   "outputs": [
    {
     "data": {
      "image/png": "[encoded data removed]",
      "text/plain": [
       "<Figure size 1440x360 with 3 Axes>"
      ]
     },
     "metadata": {
      "needs_background": "light"
     },
     "output_type": "display_data"
    }
   ],
   "source": [
    "\n",
    "\n",
    "fig = plt.figure(constrained_layout = True,figsize = (20,5))\n",
    "gs = GridSpec(1, 3, figure=fig) \n",
    "#\"Recency\", \"Frequency\", \"Monetary\"\n",
    "lists=[[\"Recency\", \"Frequency\"],[\"Recency\",\"Monetary\"],[\"Frequency\",\"Monetary\"]]\n",
    "i=0\n",
    "\n",
    "for c in lists:\n",
    "    \n",
    "    plt.subplot(gs[0,i])\n",
    "    sns.scatterplot(data=RFM,x=c[0],y=c[1])    \n",
    "    i= i+1\n",
    "\n",
    "\n"
   ]
  },
  {
   "cell_type": "code",
   "execution_count": 27,
   "id": "e9942399",
   "metadata": {},
   "outputs": [
    {
     "data": {
      "text/plain": [
       "<seaborn.axisgrid.PairGrid at 0x1ba3dd47c10>"
      ]
     },
     "execution_count": 27,
     "metadata": {},
     "output_type": "execute_result"
    },
    {
     "data": {
      "image/png": "[encoded data removed]",
      "text/plain": [
       "<Figure size 540x540 with 12 Axes>"
      ]
     },
     "metadata": {
      "needs_background": "light"
     },
     "output_type": "display_data"
    }
   ],
   "source": [
    "RFM_data = RFM[[\"Recency\", \"Frequency\", \"Monetary\"]]\n",
    "\n",
    "sns.pairplot(RFM_data)"
   ]
  },
  {
   "cell_type": "markdown",
   "id": "89fcc59f",
   "metadata": {},
   "source": [
    "**Observations**<br>"
   ]
  },
  {
   "cell_type": "code",
   "execution_count": 28,
   "id": "39d82ac9",
   "metadata": {},
   "outputs": [],
   "source": [
    "RFM.to_csv('df_rfm',index='False')"
   ]
  },
  {
   "cell_type": "code",
   "execution_count": 29,
   "id": "be6ba397",
   "metadata": {},
   "outputs": [
    {
     "data": {
      "text/plain": [
       "Index(['customer_unique_id', 'Frequency', 'Recency', 'Monetary'], dtype='object')"
      ]
     },
     "execution_count": 29,
     "metadata": {},
     "output_type": "execute_result"
    }
   ],
   "source": [
    "RFM.columns"
   ]
  },
  {
   "cell_type": "markdown",
   "id": "aedd3ac4",
   "metadata": {},
   "source": [
    "### 3.Clustering avec kmeans (RFM)"
   ]
  },
  {
   "cell_type": "code",
   "execution_count": 30,
   "id": "b1e89063",
   "metadata": {},
   "outputs": [],
   "source": [
    "X=RFM[['Frequency', 'Recency', 'Monetary']]\n",
    "# Scaling input using StandardScaler\n",
    "from sklearn.preprocessing import StandardScaler\n",
    "scaler = StandardScaler()\n",
    "Xstd = pd.DataFrame(scaler.fit_transform(X), columns=X.columns)\n"
   ]
  },
  {
   "cell_type": "code",
   "execution_count": 32,
   "id": "43ef99e1",
   "metadata": {},
   "outputs": [],
   "source": []
  },
  {
   "cell_type": "code",
   "execution_count": 34,
   "id": "057de9ae",
   "metadata": {},
   "outputs": [],
   "source": [
    "k_rng=range(2, 11)"
   ]
  },
  {
   "cell_type": "code",
   "execution_count": 32,
   "id": "0b1c9eba",
   "metadata": {},
   "outputs": [],
   "source": [
    "#fsilhouette(k_rng,Xstd)"
   ]
  },
  {
   "cell_type": "code",
   "execution_count": 36,
   "id": "3b763162",
   "metadata": {},
   "outputs": [
    {
     "data": {
      "image/png": "[encoded data removed]",
      "text/plain": [
       "<Figure size 432x288 with 2 Axes>"
      ]
     },
     "metadata": {},
     "output_type": "display_data"
    },
    {
     "data": {
      "text/plain": [
       "<AxesSubplot:title={'center':'Distortion Score Elbow for KMeans Clustering'}, xlabel='k', ylabel='distortion score'>"
      ]
     },
     "execution_count": 36,
     "metadata": {},
     "output_type": "execute_result"
    }
   ],
   "source": [
    "# Instantiate the clustering model and visualizer\n",
    "model = KMeans(init = 'k-means++', random_state = 42)\n",
    "visualizer = KElbowVisualizer(model, k=k_rng)\n",
    "\n",
    "visualizer.fit(Xstd)    # Fit the data to the visualizer\n",
    "visualizer.poof()"
   ]
  },
  {
   "cell_type": "markdown",
   "id": "b7b4a731",
   "metadata": {},
   "source": [
    "**Remarque**<br>\n",
    "-le silhouette score est entre - et 1<br>\n",
    "-score proche de 1==>les points du meme cluster sont très similaire<br>\n",
    "-score proche de -1==>les points du meme cluster ne sont très similaire\n"
   ]
  },
  {
   "cell_type": "code",
   "execution_count": 39,
   "id": "dbf69c86",
   "metadata": {},
   "outputs": [
    {
     "data": {
      "image/png": "[encoded data removed]",
      "text/plain": [
       "<Figure size 432x288 with 1 Axes>"
      ]
     },
     "metadata": {
      "needs_background": "light"
     },
     "output_type": "display_data"
    },
    {
     "data": {
      "text/plain": [
       "<AxesSubplot:title={'center':'Silhouette Plot of KMeans Clustering for 91478 Samples in 4 Centers'}, xlabel='silhouette coefficient values', ylabel='cluster label'>"
      ]
     },
     "execution_count": 39,
     "metadata": {},
     "output_type": "execute_result"
    }
   ],
   "source": [
    "#Instantiate the clustering model and visualizer \n",
    "#model = KMeans(4)\n",
    "#visualizer = SilhouetteVisualizer(model)\n",
    "\n",
    "#visualizer.fit(Xstd)    # Fit the data to the visualizer\n",
    "#visualizer.poof()"
   ]
  },
  {
   "cell_type": "code",
   "execution_count": null,
   "id": "b8ef0ebb",
   "metadata": {},
   "outputs": [],
   "source": []
  },
  {
   "cell_type": "code",
   "execution_count": 42,
   "id": "616dfc0c",
   "metadata": {},
   "outputs": [
    {
     "data": {
      "text/plain": [
       "array([0, 0, 1, ..., 1, 0, 1])"
      ]
     },
     "execution_count": 42,
     "metadata": {},
     "output_type": "execute_result"
    }
   ],
   "source": [
    "#pour k=4\n",
    "kmeans = KMeans(n_clusters = 4, init = \"k-means++\", random_state = 42)\n",
    "y_kmeans = kmeans.fit_predict(Xstd)\n",
    "y_kmeans"
   ]
  },
  {
   "cell_type": "code",
   "execution_count": 43,
   "id": "5812ef77",
   "metadata": {},
   "outputs": [
    {
     "name": "stdout",
     "output_type": "stream",
     "text": [
      "For n_clusters = 4 The average silhouette_score is : 0.43179645876872036\n"
     ]
    }
   ],
   "source": [
    "# k_selcted=4\n",
    "# silhouette_avg = silhouette_score(Xstd, y_kmeans)\n",
    "# print(\"For n_clusters =\",\n",
    "#         k_selcted,\n",
    "#         \"The average silhouette_score is :\",\n",
    "#         silhouette_avg,\n",
    "#     )"
   ]
  },
  {
   "cell_type": "markdown",
   "id": "8109d7d4",
   "metadata": {},
   "source": [
    "For n_clusters = 4 The average silhouette_score is : 0.43179645876872036"
   ]
  },
  {
   "cell_type": "code",
   "execution_count": 33,
   "id": "ad8f1480",
   "metadata": {},
   "outputs": [
    {
     "data": {
      "image/png": "[encoded data removed]",
      "text/plain": [
       "<Figure size 432x288 with 1 Axes>"
      ]
     },
     "metadata": {
      "needs_background": "light"
     },
     "output_type": "display_data"
    }
   ],
   "source": [
    "\n",
    "felbow(k_rng,Xstd)"
   ]
  },
  {
   "cell_type": "code",
   "execution_count": null,
   "id": "df7f1d86",
   "metadata": {},
   "outputs": [],
   "source": [
    " ss=silhouette_score(y_kmeans, kmeans.labels_)\n",
    " "
   ]
  },
  {
   "cell_type": "code",
   "execution_count": 35,
   "id": "1734ad7e",
   "metadata": {},
   "outputs": [
    {
     "data": {
      "text/html": [
       "<div>\n",
       "<style scoped>\n",
       "    .dataframe tbody tr th:only-of-type {\n",
       "        vertical-align: middle;\n",
       "    }\n",
       "\n",
       "    .dataframe tbody tr th {\n",
       "        vertical-align: top;\n",
       "    }\n",
       "\n",
       "    .dataframe thead th {\n",
       "        text-align: right;\n",
       "    }\n",
       "</style>\n",
       "<table border=\"1\" class=\"dataframe\">\n",
       "  <thead>\n",
       "    <tr style=\"text-align: right;\">\n",
       "      <th></th>\n",
       "      <th>CustomerID</th>\n",
       "      <th>Frequency</th>\n",
       "      <th>Recency</th>\n",
       "      <th>Monetary</th>\n",
       "      <th>ClusterID</th>\n",
       "    </tr>\n",
       "  </thead>\n",
       "  <tbody>\n",
       "    <tr>\n",
       "      <th>0</th>\n",
       "      <td>0000366f3b9a7992bf8c76cfdf3221e2</td>\n",
       "      <td>1</td>\n",
       "      <td>112</td>\n",
       "      <td>129.90</td>\n",
       "      <td>0</td>\n",
       "    </tr>\n",
       "    <tr>\n",
       "      <th>1</th>\n",
       "      <td>0000b849f77a49e4a4ce2b2a4ca5be3f</td>\n",
       "      <td>1</td>\n",
       "      <td>115</td>\n",
       "      <td>18.90</td>\n",
       "      <td>0</td>\n",
       "    </tr>\n",
       "    <tr>\n",
       "      <th>2</th>\n",
       "      <td>0000f46a3911fa3c0805444483337064</td>\n",
       "      <td>1</td>\n",
       "      <td>537</td>\n",
       "      <td>69.00</td>\n",
       "      <td>1</td>\n",
       "    </tr>\n",
       "    <tr>\n",
       "      <th>3</th>\n",
       "      <td>0000f6ccb0745a6a4b88665a16c9f078</td>\n",
       "      <td>1</td>\n",
       "      <td>321</td>\n",
       "      <td>25.99</td>\n",
       "      <td>1</td>\n",
       "    </tr>\n",
       "    <tr>\n",
       "      <th>4</th>\n",
       "      <td>0004aac84e0df4da2b147fca70cf8255</td>\n",
       "      <td>1</td>\n",
       "      <td>288</td>\n",
       "      <td>180.00</td>\n",
       "      <td>1</td>\n",
       "    </tr>\n",
       "    <tr>\n",
       "      <th>...</th>\n",
       "      <td>...</td>\n",
       "      <td>...</td>\n",
       "      <td>...</td>\n",
       "      <td>...</td>\n",
       "      <td>...</td>\n",
       "    </tr>\n",
       "    <tr>\n",
       "      <th>91473</th>\n",
       "      <td>fffcf5a5ff07b0908bd4e2dbc735a684</td>\n",
       "      <td>2</td>\n",
       "      <td>447</td>\n",
       "      <td>1570.00</td>\n",
       "      <td>2</td>\n",
       "    </tr>\n",
       "    <tr>\n",
       "      <th>91474</th>\n",
       "      <td>fffea47cd6d3cc0a88bd621562a9d061</td>\n",
       "      <td>1</td>\n",
       "      <td>262</td>\n",
       "      <td>64.89</td>\n",
       "      <td>1</td>\n",
       "    </tr>\n",
       "    <tr>\n",
       "      <th>91475</th>\n",
       "      <td>ffff371b4d645b6ecea244b27531430a</td>\n",
       "      <td>1</td>\n",
       "      <td>568</td>\n",
       "      <td>89.90</td>\n",
       "      <td>1</td>\n",
       "    </tr>\n",
       "    <tr>\n",
       "      <th>91476</th>\n",
       "      <td>ffff5962728ec6157033ef9805bacc48</td>\n",
       "      <td>1</td>\n",
       "      <td>119</td>\n",
       "      <td>115.00</td>\n",
       "      <td>0</td>\n",
       "    </tr>\n",
       "    <tr>\n",
       "      <th>91477</th>\n",
       "      <td>ffffd2657e2aad2907e67c3e9daecbeb</td>\n",
       "      <td>1</td>\n",
       "      <td>484</td>\n",
       "      <td>56.99</td>\n",
       "      <td>1</td>\n",
       "    </tr>\n",
       "  </tbody>\n",
       "</table>\n",
       "<p>91478 rows × 5 columns</p>\n",
       "</div>"
      ],
      "text/plain": [
       "                             CustomerID  Frequency  Recency  Monetary  \\\n",
       "0      0000366f3b9a7992bf8c76cfdf3221e2          1      112    129.90   \n",
       "1      0000b849f77a49e4a4ce2b2a4ca5be3f          1      115     18.90   \n",
       "2      0000f46a3911fa3c0805444483337064          1      537     69.00   \n",
       "3      0000f6ccb0745a6a4b88665a16c9f078          1      321     25.99   \n",
       "4      0004aac84e0df4da2b147fca70cf8255          1      288    180.00   \n",
       "...                                 ...        ...      ...       ...   \n",
       "91473  fffcf5a5ff07b0908bd4e2dbc735a684          2      447   1570.00   \n",
       "91474  fffea47cd6d3cc0a88bd621562a9d061          1      262     64.89   \n",
       "91475  ffff371b4d645b6ecea244b27531430a          1      568     89.90   \n",
       "91476  ffff5962728ec6157033ef9805bacc48          1      119    115.00   \n",
       "91477  ffffd2657e2aad2907e67c3e9daecbeb          1      484     56.99   \n",
       "\n",
       "       ClusterID  \n",
       "0              0  \n",
       "1              0  \n",
       "2              1  \n",
       "3              1  \n",
       "4              1  \n",
       "...          ...  \n",
       "91473          2  \n",
       "91474          1  \n",
       "91475          1  \n",
       "91476          0  \n",
       "91477          1  \n",
       "\n",
       "[91478 rows x 5 columns]"
      ]
     },
     "execution_count": 35,
     "metadata": {},
     "output_type": "execute_result"
    }
   ],
   "source": [
    "RFM_km=pd.concat([RFM, pd.Series(y_kmeans)], axis=1)\n",
    "RFM_km.columns = ['CustomerID', 'Frequency',  'Recency','Monetary', 'ClusterID']\n",
    "RFM_km"
   ]
  },
  {
   "cell_type": "code",
   "execution_count": null,
   "id": "c62e513a",
   "metadata": {},
   "outputs": [],
   "source": [
    "\n"
   ]
  },
  {
   "cell_type": "code",
   "execution_count": 36,
   "id": "da6eabbd",
   "metadata": {},
   "outputs": [
    {
     "data": {
      "text/html": [
       "<div>\n",
       "<style scoped>\n",
       "    .dataframe tbody tr th:only-of-type {\n",
       "        vertical-align: middle;\n",
       "    }\n",
       "\n",
       "    .dataframe tbody tr th {\n",
       "        vertical-align: top;\n",
       "    }\n",
       "\n",
       "    .dataframe thead th {\n",
       "        text-align: right;\n",
       "    }\n",
       "</style>\n",
       "<table border=\"1\" class=\"dataframe\">\n",
       "  <thead>\n",
       "    <tr style=\"text-align: right;\">\n",
       "      <th></th>\n",
       "      <th>ClusterID</th>\n",
       "      <th>nb_customers</th>\n",
       "    </tr>\n",
       "  </thead>\n",
       "  <tbody>\n",
       "    <tr>\n",
       "      <th>0</th>\n",
       "      <td>0</td>\n",
       "      <td>49657</td>\n",
       "    </tr>\n",
       "    <tr>\n",
       "      <th>1</th>\n",
       "      <td>1</td>\n",
       "      <td>36679</td>\n",
       "    </tr>\n",
       "    <tr>\n",
       "      <th>2</th>\n",
       "      <td>2</td>\n",
       "      <td>2053</td>\n",
       "    </tr>\n",
       "    <tr>\n",
       "      <th>3</th>\n",
       "      <td>3</td>\n",
       "      <td>3089</td>\n",
       "    </tr>\n",
       "  </tbody>\n",
       "</table>\n",
       "</div>"
      ],
      "text/plain": [
       "   ClusterID  nb_customers\n",
       "0          0         49657\n",
       "1          1         36679\n",
       "2          2          2053\n",
       "3          3          3089"
      ]
     },
     "execution_count": 36,
     "metadata": {},
     "output_type": "execute_result"
    }
   ],
   "source": [
    "customer_per_cluster1=fnb_customper_cluster(RFM_km)\n",
    "customer_per_cluster1"
   ]
  },
  {
   "cell_type": "code",
   "execution_count": 37,
   "id": "892b7f22",
   "metadata": {},
   "outputs": [
    {
     "data": {
      "text/html": [
       "<div>\n",
       "<style scoped>\n",
       "    .dataframe tbody tr th:only-of-type {\n",
       "        vertical-align: middle;\n",
       "    }\n",
       "\n",
       "    .dataframe tbody tr th {\n",
       "        vertical-align: top;\n",
       "    }\n",
       "\n",
       "    .dataframe thead th {\n",
       "        text-align: right;\n",
       "    }\n",
       "</style>\n",
       "<table border=\"1\" class=\"dataframe\">\n",
       "  <thead>\n",
       "    <tr style=\"text-align: right;\">\n",
       "      <th></th>\n",
       "      <th>Frequency</th>\n",
       "      <th>Recency</th>\n",
       "      <th>Monetary</th>\n",
       "      <th>ClusterID</th>\n",
       "    </tr>\n",
       "  </thead>\n",
       "  <tbody>\n",
       "    <tr>\n",
       "      <th>count</th>\n",
       "      <td>91478.000000</td>\n",
       "      <td>91478.000000</td>\n",
       "      <td>91478.000000</td>\n",
       "      <td>91478.000000</td>\n",
       "    </tr>\n",
       "    <tr>\n",
       "      <th>mean</th>\n",
       "      <td>1.211712</td>\n",
       "      <td>237.047662</td>\n",
       "      <td>144.949038</td>\n",
       "      <td>0.547148</td>\n",
       "    </tr>\n",
       "    <tr>\n",
       "      <th>std</th>\n",
       "      <td>0.679484</td>\n",
       "      <td>152.560470</td>\n",
       "      <td>220.997009</td>\n",
       "      <td>0.703757</td>\n",
       "    </tr>\n",
       "    <tr>\n",
       "      <th>min</th>\n",
       "      <td>1.000000</td>\n",
       "      <td>1.000000</td>\n",
       "      <td>0.850000</td>\n",
       "      <td>0.000000</td>\n",
       "    </tr>\n",
       "    <tr>\n",
       "      <th>25%</th>\n",
       "      <td>1.000000</td>\n",
       "      <td>114.000000</td>\n",
       "      <td>48.900000</td>\n",
       "      <td>0.000000</td>\n",
       "    </tr>\n",
       "    <tr>\n",
       "      <th>50%</th>\n",
       "      <td>1.000000</td>\n",
       "      <td>218.000000</td>\n",
       "      <td>89.900000</td>\n",
       "      <td>0.000000</td>\n",
       "    </tr>\n",
       "    <tr>\n",
       "      <th>75%</th>\n",
       "      <td>1.000000</td>\n",
       "      <td>345.000000</td>\n",
       "      <td>159.000000</td>\n",
       "      <td>1.000000</td>\n",
       "    </tr>\n",
       "    <tr>\n",
       "      <th>max</th>\n",
       "      <td>24.000000</td>\n",
       "      <td>695.000000</td>\n",
       "      <td>13440.000000</td>\n",
       "      <td>3.000000</td>\n",
       "    </tr>\n",
       "  </tbody>\n",
       "</table>\n",
       "</div>"
      ],
      "text/plain": [
       "          Frequency       Recency      Monetary     ClusterID\n",
       "count  91478.000000  91478.000000  91478.000000  91478.000000\n",
       "mean       1.211712    237.047662    144.949038      0.547148\n",
       "std        0.679484    152.560470    220.997009      0.703757\n",
       "min        1.000000      1.000000      0.850000      0.000000\n",
       "25%        1.000000    114.000000     48.900000      0.000000\n",
       "50%        1.000000    218.000000     89.900000      0.000000\n",
       "75%        1.000000    345.000000    159.000000      1.000000\n",
       "max       24.000000    695.000000  13440.000000      3.000000"
      ]
     },
     "execution_count": 37,
     "metadata": {},
     "output_type": "execute_result"
    }
   ],
   "source": [
    "RFM_km.describe()"
   ]
  },
  {
   "cell_type": "markdown",
   "id": "d5e270ea",
   "metadata": {},
   "source": [
    "**Obserrvations**<br>\n",
    "le cluster 1 contient le plus de clients\n",
    "    "
   ]
  },
  {
   "cell_type": "code",
   "execution_count": 38,
   "id": "a799840a",
   "metadata": {},
   "outputs": [
    {
     "data": {
      "text/plain": [
       "<AxesSubplot:title={'center':'Recency'}, xlabel='ClusterID'>"
      ]
     },
     "execution_count": 38,
     "metadata": {},
     "output_type": "execute_result"
    },
    {
     "data": {
      "image/png": "[encoded data removed]",
      "text/plain": [
       "<Figure size 432x288 with 1 Axes>"
      ]
     },
     "metadata": {
      "needs_background": "light"
     },
     "output_type": "display_data"
    }
   ],
   "source": [
    "\n",
    "RFM_km.boxplot(column = 'Recency', by = 'ClusterID')"
   ]
  },
  {
   "cell_type": "markdown",
   "id": "bd073e17",
   "metadata": {},
   "source": [
    "**Observations**<br>\n",
    "Pour la récence, que le cluster 4 contient des outliers."
   ]
  },
  {
   "cell_type": "code",
   "execution_count": 39,
   "id": "2ee91577",
   "metadata": {},
   "outputs": [
    {
     "data": {
      "text/plain": [
       "<AxesSubplot:title={'center':'Monetary'}, xlabel='ClusterID'>"
      ]
     },
     "execution_count": 39,
     "metadata": {},
     "output_type": "execute_result"
    },
    {
     "data": {
      "image/png": "[encoded data removed]",
      "text/plain": [
       "<Figure size 432x288 with 1 Axes>"
      ]
     },
     "metadata": {
      "needs_background": "light"
     },
     "output_type": "display_data"
    }
   ],
   "source": [
    "RFM_km.boxplot(column = 'Monetary', by = 'ClusterID')"
   ]
  },
  {
   "cell_type": "markdown",
   "id": "ac316ffa",
   "metadata": {},
   "source": [
    "**Observations**<br>\n",
    "Pour les montants, "
   ]
  },
  {
   "cell_type": "code",
   "execution_count": 40,
   "id": "6012a70e",
   "metadata": {},
   "outputs": [
    {
     "data": {
      "text/plain": [
       "<AxesSubplot:title={'center':'Frequency'}, xlabel='ClusterID'>"
      ]
     },
     "execution_count": 40,
     "metadata": {},
     "output_type": "execute_result"
    },
    {
     "data": {
      "image/png": "[encoded data removed]",
      "text/plain": [
       "<Figure size 432x288 with 1 Axes>"
      ]
     },
     "metadata": {
      "needs_background": "light"
     },
     "output_type": "display_data"
    }
   ],
   "source": [
    "RFM_km.boxplot(column = 'Frequency', by = 'ClusterID')"
   ]
  },
  {
   "cell_type": "code",
   "execution_count": 41,
   "id": "1e95e3ba",
   "metadata": {},
   "outputs": [
    {
     "data": {
      "text/plain": [
       "array([1, 2, 3, 6, 8, 4, 5], dtype=int64)"
      ]
     },
     "execution_count": 41,
     "metadata": {},
     "output_type": "execute_result"
    }
   ],
   "source": [
    "RFM_km[RFM_km.ClusterID==2]['Frequency'].unique()"
   ]
  },
  {
   "cell_type": "markdown",
   "id": "f84851e0",
   "metadata": {},
   "source": [
    "**Observations**<br>\n",
    "-le cluster1 contient que les clienst qui ont achétes peu de fois (1,2)<br>\n",
    "-le cluster2 contient que les clienst qui ont achétes peu de fois (1,2)<br>\n",
    "-le cluster3 contient que les clienst qui ont achétes peu de fois (1, 2, 3, 6, 8, 4, 5)<br>\n",
    "-le cluster4 contient que les clienst qui ont achétes entre 4 et 24 fois <br>"
   ]
  },
  {
   "cell_type": "code",
   "execution_count": 42,
   "id": "80764eef",
   "metadata": {},
   "outputs": [],
   "source": [
    "#data=RFM_km[['CustomerID', 'Frequency',  'Recency','Monetary']]\n",
    "#c1 = RFM_km[RFM_km.ClusterID==0]\n",
    "\n",
    "#c1=c1[['Frequency', 'Recency', 'Monetary']]\n",
    "#sns.pairplot(c1)"
   ]
  },
  {
   "cell_type": "code",
   "execution_count": null,
   "id": "da8283ac",
   "metadata": {},
   "outputs": [],
   "source": []
  },
  {
   "cell_type": "code",
   "execution_count": 43,
   "id": "29b9dacc",
   "metadata": {},
   "outputs": [
    {
     "data": {
      "text/plain": [
       "<seaborn.axisgrid.PairGrid at 0x204d057ffa0>"
      ]
     },
     "execution_count": 43,
     "metadata": {},
     "output_type": "execute_result"
    },
    {
     "data": {
      "image/png": "[encoded data removed]",
      "text/plain": [
       "<Figure size 594.125x540 with 12 Axes>"
      ]
     },
     "metadata": {
      "needs_background": "light"
     },
     "output_type": "display_data"
    }
   ],
   "source": [
    "data=RFM_km[['ClusterID', 'Frequency',  'Recency','Monetary']]\n",
    "sns.pairplot(data,hue='ClusterID', diag_kind=\"hist\",palette=sns.color_palette(n_colors=4))"
   ]
  },
  {
   "cell_type": "markdown",
   "id": "bdc79e3f",
   "metadata": {},
   "source": [
    "**Observations**<br>"
   ]
  },
  {
   "cell_type": "code",
   "execution_count": 44,
   "id": "e8aca51e",
   "metadata": {},
   "outputs": [],
   "source": [
    "km_recency_clusters=mean_clus_feat(RFM_km,'ClusterID','Recency')\n",
    "km_frequency_clusters=mean_clus_feat(RFM_km,'ClusterID','Frequency')\n",
    "km_monetary_clusters=mean_clus_feat(RFM_km,'ClusterID','Monetary')\n"
   ]
  },
  {
   "cell_type": "code",
   "execution_count": 45,
   "id": "91b4a653",
   "metadata": {},
   "outputs": [
    {
     "data": {
      "text/html": [
       "<div>\n",
       "<style scoped>\n",
       "    .dataframe tbody tr th:only-of-type {\n",
       "        vertical-align: middle;\n",
       "    }\n",
       "\n",
       "    .dataframe tbody tr th {\n",
       "        vertical-align: top;\n",
       "    }\n",
       "\n",
       "    .dataframe thead th {\n",
       "        text-align: right;\n",
       "    }\n",
       "</style>\n",
       "<table border=\"1\" class=\"dataframe\">\n",
       "  <thead>\n",
       "    <tr style=\"text-align: right;\">\n",
       "      <th></th>\n",
       "      <th>Recency_mean</th>\n",
       "    </tr>\n",
       "    <tr>\n",
       "      <th>ClusterID</th>\n",
       "      <th></th>\n",
       "    </tr>\n",
       "  </thead>\n",
       "  <tbody>\n",
       "    <tr>\n",
       "      <th>0</th>\n",
       "      <td>126.984071</td>\n",
       "    </tr>\n",
       "    <tr>\n",
       "      <th>1</th>\n",
       "      <td>386.399029</td>\n",
       "    </tr>\n",
       "    <tr>\n",
       "      <th>2</th>\n",
       "      <td>236.316610</td>\n",
       "    </tr>\n",
       "    <tr>\n",
       "      <th>3</th>\n",
       "      <td>233.444480</td>\n",
       "    </tr>\n",
       "  </tbody>\n",
       "</table>\n",
       "</div>"
      ],
      "text/plain": [
       "           Recency_mean\n",
       "ClusterID              \n",
       "0            126.984071\n",
       "1            386.399029\n",
       "2            236.316610\n",
       "3            233.444480"
      ]
     },
     "execution_count": 45,
     "metadata": {},
     "output_type": "execute_result"
    }
   ],
   "source": [
    "km_recency_clusters"
   ]
  },
  {
   "cell_type": "code",
   "execution_count": 46,
   "id": "db84f4c2",
   "metadata": {},
   "outputs": [
    {
     "data": {
      "text/html": [
       "<div>\n",
       "<style scoped>\n",
       "    .dataframe tbody tr th:only-of-type {\n",
       "        vertical-align: middle;\n",
       "    }\n",
       "\n",
       "    .dataframe tbody tr th {\n",
       "        vertical-align: top;\n",
       "    }\n",
       "\n",
       "    .dataframe thead th {\n",
       "        text-align: right;\n",
       "    }\n",
       "</style>\n",
       "<table border=\"1\" class=\"dataframe\">\n",
       "  <thead>\n",
       "    <tr style=\"text-align: right;\">\n",
       "      <th></th>\n",
       "      <th>Frequency_mean</th>\n",
       "    </tr>\n",
       "    <tr>\n",
       "      <th>ClusterID</th>\n",
       "      <th></th>\n",
       "    </tr>\n",
       "  </thead>\n",
       "  <tbody>\n",
       "    <tr>\n",
       "      <th>0</th>\n",
       "      <td>1.111263</td>\n",
       "    </tr>\n",
       "    <tr>\n",
       "      <th>1</th>\n",
       "      <td>1.113525</td>\n",
       "    </tr>\n",
       "    <tr>\n",
       "      <th>2</th>\n",
       "      <td>1.263030</td>\n",
       "    </tr>\n",
       "    <tr>\n",
       "      <th>3</th>\n",
       "      <td>3.958239</td>\n",
       "    </tr>\n",
       "  </tbody>\n",
       "</table>\n",
       "</div>"
      ],
      "text/plain": [
       "           Frequency_mean\n",
       "ClusterID                \n",
       "0                1.111263\n",
       "1                1.113525\n",
       "2                1.263030\n",
       "3                3.958239"
      ]
     },
     "execution_count": 46,
     "metadata": {},
     "output_type": "execute_result"
    }
   ],
   "source": [
    "km_frequency_clusters"
   ]
  },
  {
   "cell_type": "code",
   "execution_count": 47,
   "id": "ac2f9df8",
   "metadata": {},
   "outputs": [
    {
     "data": {
      "text/html": [
       "<div>\n",
       "<style scoped>\n",
       "    .dataframe tbody tr th:only-of-type {\n",
       "        vertical-align: middle;\n",
       "    }\n",
       "\n",
       "    .dataframe tbody tr th {\n",
       "        vertical-align: top;\n",
       "    }\n",
       "\n",
       "    .dataframe thead th {\n",
       "        text-align: right;\n",
       "    }\n",
       "</style>\n",
       "<table border=\"1\" class=\"dataframe\">\n",
       "  <thead>\n",
       "    <tr style=\"text-align: right;\">\n",
       "      <th></th>\n",
       "      <th>Monetary_mean</th>\n",
       "    </tr>\n",
       "    <tr>\n",
       "      <th>ClusterID</th>\n",
       "      <th></th>\n",
       "    </tr>\n",
       "  </thead>\n",
       "  <tbody>\n",
       "    <tr>\n",
       "      <th>0</th>\n",
       "      <td>114.837330</td>\n",
       "    </tr>\n",
       "    <tr>\n",
       "      <th>1</th>\n",
       "      <td>115.746640</td>\n",
       "    </tr>\n",
       "    <tr>\n",
       "      <th>2</th>\n",
       "      <td>1178.096069</td>\n",
       "    </tr>\n",
       "    <tr>\n",
       "      <th>3</th>\n",
       "      <td>289.112522</td>\n",
       "    </tr>\n",
       "  </tbody>\n",
       "</table>\n",
       "</div>"
      ],
      "text/plain": [
       "           Monetary_mean\n",
       "ClusterID               \n",
       "0             114.837330\n",
       "1             115.746640\n",
       "2            1178.096069\n",
       "3             289.112522"
      ]
     },
     "execution_count": 47,
     "metadata": {},
     "output_type": "execute_result"
    }
   ],
   "source": [
    "km_monetary_clusters"
   ]
  },
  {
   "cell_type": "code",
   "execution_count": 48,
   "id": "2413a44a",
   "metadata": {},
   "outputs": [
    {
     "name": "stdout",
     "output_type": "stream",
     "text": [
      "<class 'pandas.core.frame.DataFrame'>\n",
      "RangeIndex: 4 entries, 0 to 3\n",
      "Data columns (total 4 columns):\n",
      " #   Column          Non-Null Count  Dtype  \n",
      "---  ------          --------------  -----  \n",
      " 0   ClusterID       4 non-null      int64  \n",
      " 1   Recency_mean    4 non-null      float64\n",
      " 2   Frequency_mean  4 non-null      float64\n",
      " 3   Monetary_mean   4 non-null      float64\n",
      "dtypes: float64(3), int64(1)\n",
      "memory usage: 256.0 bytes\n"
     ]
    }
   ],
   "source": [
    "df = pd.concat([pd.Series([0,1,2,3]),km_recency_clusters, km_frequency_clusters, km_monetary_clusters], axis=1)\n",
    "df.columns = [\"ClusterID\", \"Recency_mean\", \"Frequency_mean\", \"Monetary_mean\"]\n",
    "df.info()"
   ]
  },
  {
   "cell_type": "code",
   "execution_count": 49,
   "id": "b057828a",
   "metadata": {},
   "outputs": [
    {
     "data": {
      "text/html": [
       "<div>\n",
       "<style scoped>\n",
       "    .dataframe tbody tr th:only-of-type {\n",
       "        vertical-align: middle;\n",
       "    }\n",
       "\n",
       "    .dataframe tbody tr th {\n",
       "        vertical-align: top;\n",
       "    }\n",
       "\n",
       "    .dataframe thead th {\n",
       "        text-align: right;\n",
       "    }\n",
       "</style>\n",
       "<table border=\"1\" class=\"dataframe\">\n",
       "  <thead>\n",
       "    <tr style=\"text-align: right;\">\n",
       "      <th></th>\n",
       "      <th>ClusterID</th>\n",
       "      <th>Recency_mean</th>\n",
       "      <th>Frequency_mean</th>\n",
       "      <th>Monetary_mean</th>\n",
       "    </tr>\n",
       "  </thead>\n",
       "  <tbody>\n",
       "    <tr>\n",
       "      <th>0</th>\n",
       "      <td>0</td>\n",
       "      <td>126.984071</td>\n",
       "      <td>1.111263</td>\n",
       "      <td>114.837330</td>\n",
       "    </tr>\n",
       "    <tr>\n",
       "      <th>1</th>\n",
       "      <td>1</td>\n",
       "      <td>386.399029</td>\n",
       "      <td>1.113525</td>\n",
       "      <td>115.746640</td>\n",
       "    </tr>\n",
       "    <tr>\n",
       "      <th>2</th>\n",
       "      <td>2</td>\n",
       "      <td>236.316610</td>\n",
       "      <td>1.263030</td>\n",
       "      <td>1178.096069</td>\n",
       "    </tr>\n",
       "    <tr>\n",
       "      <th>3</th>\n",
       "      <td>3</td>\n",
       "      <td>233.444480</td>\n",
       "      <td>3.958239</td>\n",
       "      <td>289.112522</td>\n",
       "    </tr>\n",
       "  </tbody>\n",
       "</table>\n",
       "</div>"
      ],
      "text/plain": [
       "   ClusterID  Recency_mean  Frequency_mean  Monetary_mean\n",
       "0          0    126.984071        1.111263     114.837330\n",
       "1          1    386.399029        1.113525     115.746640\n",
       "2          2    236.316610        1.263030    1178.096069\n",
       "3          3    233.444480        3.958239     289.112522"
      ]
     },
     "execution_count": 49,
     "metadata": {},
     "output_type": "execute_result"
    }
   ],
   "source": [
    "df"
   ]
  },
  {
   "cell_type": "markdown",
   "id": "3b6c8116",
   "metadata": {},
   "source": [
    "**Observations**<br>\n",
    "-La moyenne de la récence du troisieme cluster est le plus proche de la moyenne de la récence globale(237à peu près). <br>\n",
    "\n"
   ]
  },
  {
   "cell_type": "code",
   "execution_count": 50,
   "id": "230dca2e",
   "metadata": {},
   "outputs": [
    {
     "data": {
      "text/plain": [
       "<AxesSubplot:xlabel='ClusterID', ylabel='Recency_mean'>"
      ]
     },
     "execution_count": 50,
     "metadata": {},
     "output_type": "execute_result"
    },
    {
     "data": {
      "image/png": "[encoded data removed]",
      "text/plain": [
       "<Figure size 432x288 with 1 Axes>"
      ]
     },
     "metadata": {
      "needs_background": "light"
     },
     "output_type": "display_data"
    }
   ],
   "source": [
    "sns.barplot(x=df.ClusterID, y=df.Recency_mean)\n"
   ]
  },
  {
   "cell_type": "markdown",
   "id": "f39f18cf",
   "metadata": {},
   "source": [
    "**Observations**<br>\n",
    "Les clients du deuxième cluster sont les clients qui ont les commandes les plus récentes"
   ]
  },
  {
   "cell_type": "code",
   "execution_count": 51,
   "id": "55b30acb",
   "metadata": {},
   "outputs": [
    {
     "data": {
      "text/plain": [
       "<AxesSubplot:xlabel='ClusterID', ylabel='Frequency_mean'>"
      ]
     },
     "execution_count": 51,
     "metadata": {},
     "output_type": "execute_result"
    },
    {
     "data": {
      "image/png": "[encoded data removed]",
      "text/plain": [
       "<Figure size 432x288 with 1 Axes>"
      ]
     },
     "metadata": {
      "needs_background": "light"
     },
     "output_type": "display_data"
    }
   ],
   "source": [
    "sns.barplot(x=df.ClusterID, y=df.Frequency_mean)\n"
   ]
  },
  {
   "cell_type": "markdown",
   "id": "dd5a540b",
   "metadata": {},
   "source": [
    "**Observations**<br>\n",
    "Les clients du cluster 4 sont les clients qui ont effectuées plusieurs commandes"
   ]
  },
  {
   "cell_type": "code",
   "execution_count": 52,
   "id": "c5f2fdc5",
   "metadata": {},
   "outputs": [
    {
     "data": {
      "text/plain": [
       "<AxesSubplot:xlabel='ClusterID', ylabel='Monetary_mean'>"
      ]
     },
     "execution_count": 52,
     "metadata": {},
     "output_type": "execute_result"
    },
    {
     "data": {
      "image/png": "[encoded data removed]",
      "text/plain": [
       "<Figure size 432x288 with 1 Axes>"
      ]
     },
     "metadata": {
      "needs_background": "light"
     },
     "output_type": "display_data"
    }
   ],
   "source": [
    "sns.barplot(x=df.ClusterID, y=df.Monetary_mean)"
   ]
  },
  {
   "cell_type": "markdown",
   "id": "fb23b1db",
   "metadata": {},
   "source": [
    "**Observations**<br>\n",
    "Les clients du 3ème cluster sont les clients qui ont payés le plus.\n",
    "<br>\n"
   ]
  },
  {
   "cell_type": "markdown",
   "id": "d622c684",
   "metadata": {},
   "source": [
    "**Conclusion**<br>\n",
    "2.le 1er cluster(cluster 0):clients avec des montants faibles,fréquences faibles et récences faibles<br>\n",
    "2.le 2ème cluster(cluster 1):clients avec des commandes récentes<br>\n",
    "2.le 3ème cluster(cluster 2):clients avec des montants élevés.<br>\n",
    "1.le 4ème cluster(cluster 3): clients avec des montants élevés .<br>\n"
   ]
  },
  {
   "cell_type": "markdown",
   "id": "d3bcb332",
   "metadata": {},
   "source": [
    "### 4.Clustering avec kmeans (RFM+review_score)"
   ]
  },
  {
   "cell_type": "code",
   "execution_count": 53,
   "id": "ed945637",
   "metadata": {},
   "outputs": [
    {
     "data": {
      "text/plain": [
       "<AxesSubplot:>"
      ]
     },
     "execution_count": 53,
     "metadata": {},
     "output_type": "execute_result"
    },
    {
     "data": {
      "image/png": "[encoded data removed]",
      "text/plain": [
       "<Figure size 432x288 with 1 Axes>"
      ]
     },
     "metadata": {
      "needs_background": "light"
     },
     "output_type": "display_data"
    }
   ],
   "source": [
    "df_cmd['review_score'].hist()"
   ]
  },
  {
   "cell_type": "markdown",
   "id": "efb15c05",
   "metadata": {},
   "source": [
    "**Observations**<br>\n",
    "La plupart  desscores sont entre 4.6 et 5 "
   ]
  },
  {
   "cell_type": "code",
   "execution_count": 54,
   "id": "2044846d",
   "metadata": {},
   "outputs": [
    {
     "data": {
      "text/html": [
       "<div>\n",
       "<style scoped>\n",
       "    .dataframe tbody tr th:only-of-type {\n",
       "        vertical-align: middle;\n",
       "    }\n",
       "\n",
       "    .dataframe tbody tr th {\n",
       "        vertical-align: top;\n",
       "    }\n",
       "\n",
       "    .dataframe thead th {\n",
       "        text-align: right;\n",
       "    }\n",
       "</style>\n",
       "<table border=\"1\" class=\"dataframe\">\n",
       "  <thead>\n",
       "    <tr style=\"text-align: right;\">\n",
       "      <th></th>\n",
       "      <th>customer_unique_id</th>\n",
       "      <th>review_score_mean</th>\n",
       "    </tr>\n",
       "  </thead>\n",
       "  <tbody>\n",
       "    <tr>\n",
       "      <th>0</th>\n",
       "      <td>0000366f3b9a7992bf8c76cfdf3221e2</td>\n",
       "      <td>5.0</td>\n",
       "    </tr>\n",
       "    <tr>\n",
       "      <th>1</th>\n",
       "      <td>0000b849f77a49e4a4ce2b2a4ca5be3f</td>\n",
       "      <td>4.0</td>\n",
       "    </tr>\n",
       "    <tr>\n",
       "      <th>2</th>\n",
       "      <td>0000f46a3911fa3c0805444483337064</td>\n",
       "      <td>3.0</td>\n",
       "    </tr>\n",
       "    <tr>\n",
       "      <th>3</th>\n",
       "      <td>0000f6ccb0745a6a4b88665a16c9f078</td>\n",
       "      <td>4.0</td>\n",
       "    </tr>\n",
       "    <tr>\n",
       "      <th>4</th>\n",
       "      <td>0004aac84e0df4da2b147fca70cf8255</td>\n",
       "      <td>5.0</td>\n",
       "    </tr>\n",
       "  </tbody>\n",
       "</table>\n",
       "</div>"
      ],
      "text/plain": [
       "                 customer_unique_id  review_score_mean\n",
       "0  0000366f3b9a7992bf8c76cfdf3221e2                5.0\n",
       "1  0000b849f77a49e4a4ce2b2a4ca5be3f                4.0\n",
       "2  0000f46a3911fa3c0805444483337064                3.0\n",
       "3  0000f6ccb0745a6a4b88665a16c9f078                4.0\n",
       "4  0004aac84e0df4da2b147fca70cf8255                5.0"
      ]
     },
     "execution_count": 54,
     "metadata": {},
     "output_type": "execute_result"
    }
   ],
   "source": [
    "#scores_review_customers=df_cmd[['customer_unique_id','review_score']]\n",
    "scores_review_customers=pd.DataFrame(df_cmd.groupby('customer_unique_id')['review_score'].mean())\\\n",
    ".rename(columns={'review_score':'review_score_mean'}).reset_index()\n",
    "scores_review_customers.head()"
   ]
  },
  {
   "cell_type": "code",
   "execution_count": 55,
   "id": "a066b83a",
   "metadata": {},
   "outputs": [
    {
     "data": {
      "text/plain": [
       "(91478, 2)"
      ]
     },
     "execution_count": 55,
     "metadata": {},
     "output_type": "execute_result"
    }
   ],
   "source": [
    "scores_review_customers.shape"
   ]
  },
  {
   "cell_type": "code",
   "execution_count": 56,
   "id": "c1563c91",
   "metadata": {},
   "outputs": [
    {
     "data": {
      "text/plain": [
       "<AxesSubplot:>"
      ]
     },
     "execution_count": 56,
     "metadata": {},
     "output_type": "execute_result"
    },
    {
     "data": {
      "image/png": "[encoded data removed]",
      "text/plain": [
       "<Figure size 432x288 with 1 Axes>"
      ]
     },
     "metadata": {
      "needs_background": "light"
     },
     "output_type": "display_data"
    }
   ],
   "source": [
    "scores_review_customers['review_score_mean'].hist()"
   ]
  },
  {
   "cell_type": "code",
   "execution_count": 57,
   "id": "c6867c04",
   "metadata": {},
   "outputs": [
    {
     "data": {
      "text/plain": [
       "(91478, 4)"
      ]
     },
     "execution_count": 57,
     "metadata": {},
     "output_type": "execute_result"
    }
   ],
   "source": [
    "RFM.shape"
   ]
  },
  {
   "cell_type": "code",
   "execution_count": 58,
   "id": "f66a9619",
   "metadata": {},
   "outputs": [
    {
     "data": {
      "text/html": [
       "<div>\n",
       "<style scoped>\n",
       "    .dataframe tbody tr th:only-of-type {\n",
       "        vertical-align: middle;\n",
       "    }\n",
       "\n",
       "    .dataframe tbody tr th {\n",
       "        vertical-align: top;\n",
       "    }\n",
       "\n",
       "    .dataframe thead th {\n",
       "        text-align: right;\n",
       "    }\n",
       "</style>\n",
       "<table border=\"1\" class=\"dataframe\">\n",
       "  <thead>\n",
       "    <tr style=\"text-align: right;\">\n",
       "      <th></th>\n",
       "      <th>customer_unique_id</th>\n",
       "      <th>Frequency</th>\n",
       "      <th>Recency</th>\n",
       "      <th>Monetary</th>\n",
       "      <th>review_score_mean</th>\n",
       "    </tr>\n",
       "  </thead>\n",
       "  <tbody>\n",
       "    <tr>\n",
       "      <th>0</th>\n",
       "      <td>0000366f3b9a7992bf8c76cfdf3221e2</td>\n",
       "      <td>1</td>\n",
       "      <td>112</td>\n",
       "      <td>129.90</td>\n",
       "      <td>5.0</td>\n",
       "    </tr>\n",
       "    <tr>\n",
       "      <th>1</th>\n",
       "      <td>0000b849f77a49e4a4ce2b2a4ca5be3f</td>\n",
       "      <td>1</td>\n",
       "      <td>115</td>\n",
       "      <td>18.90</td>\n",
       "      <td>4.0</td>\n",
       "    </tr>\n",
       "    <tr>\n",
       "      <th>2</th>\n",
       "      <td>0000f46a3911fa3c0805444483337064</td>\n",
       "      <td>1</td>\n",
       "      <td>537</td>\n",
       "      <td>69.00</td>\n",
       "      <td>3.0</td>\n",
       "    </tr>\n",
       "    <tr>\n",
       "      <th>3</th>\n",
       "      <td>0000f6ccb0745a6a4b88665a16c9f078</td>\n",
       "      <td>1</td>\n",
       "      <td>321</td>\n",
       "      <td>25.99</td>\n",
       "      <td>4.0</td>\n",
       "    </tr>\n",
       "    <tr>\n",
       "      <th>4</th>\n",
       "      <td>0004aac84e0df4da2b147fca70cf8255</td>\n",
       "      <td>1</td>\n",
       "      <td>288</td>\n",
       "      <td>180.00</td>\n",
       "      <td>5.0</td>\n",
       "    </tr>\n",
       "  </tbody>\n",
       "</table>\n",
       "</div>"
      ],
      "text/plain": [
       "                 customer_unique_id  Frequency  Recency  Monetary  \\\n",
       "0  0000366f3b9a7992bf8c76cfdf3221e2          1      112    129.90   \n",
       "1  0000b849f77a49e4a4ce2b2a4ca5be3f          1      115     18.90   \n",
       "2  0000f46a3911fa3c0805444483337064          1      537     69.00   \n",
       "3  0000f6ccb0745a6a4b88665a16c9f078          1      321     25.99   \n",
       "4  0004aac84e0df4da2b147fca70cf8255          1      288    180.00   \n",
       "\n",
       "   review_score_mean  \n",
       "0                5.0  \n",
       "1                4.0  \n",
       "2                3.0  \n",
       "3                4.0  \n",
       "4                5.0  "
      ]
     },
     "execution_count": 58,
     "metadata": {},
     "output_type": "execute_result"
    }
   ],
   "source": [
    "RFM_score_review=pd.merge(RFM,scores_review_customers,on='customer_unique_id')\n",
    "RFM_score_review.head()"
   ]
  },
  {
   "cell_type": "code",
   "execution_count": 59,
   "id": "89a66223",
   "metadata": {},
   "outputs": [
    {
     "data": {
      "text/plain": [
       "(91478, 5)"
      ]
     },
     "execution_count": 59,
     "metadata": {},
     "output_type": "execute_result"
    }
   ],
   "source": [
    "RFM_score_review.shape\n"
   ]
  },
  {
   "cell_type": "code",
   "execution_count": 60,
   "id": "7a208a22",
   "metadata": {},
   "outputs": [],
   "source": [
    "X1=RFM_score_review[['Frequency', 'Recency', 'Monetary','review_score_mean']]\n",
    "Xstd1 = pd.DataFrame(scaler.fit_transform(X1), columns=X1.columns)"
   ]
  },
  {
   "cell_type": "code",
   "execution_count": null,
   "id": "41ed1269",
   "metadata": {},
   "outputs": [],
   "source": [
    "\n"
   ]
  },
  {
   "cell_type": "code",
   "execution_count": 61,
   "id": "e20fe1fa",
   "metadata": {},
   "outputs": [
    {
     "data": {
      "image/png": "[encoded data removed]",
      "text/plain": [
       "<Figure size 432x288 with 1 Axes>"
      ]
     },
     "metadata": {
      "needs_background": "light"
     },
     "output_type": "display_data"
    }
   ],
   "source": [
    "k_rng=range(2, 11)\n",
    "felbow(k_rng,Xstd1)"
   ]
  },
  {
   "cell_type": "code",
   "execution_count": 62,
   "id": "9c0bd92a",
   "metadata": {},
   "outputs": [
    {
     "data": {
      "text/plain": [
       "array([2, 2, 0, ..., 0, 2, 0])"
      ]
     },
     "execution_count": 62,
     "metadata": {},
     "output_type": "execute_result"
    }
   ],
   "source": [
    "\n",
    "kmeans1 = KMeans(n_clusters = 4, init = \"k-means++\", random_state = 42)\n",
    "y_kmeans1 = kmeans1.fit_predict(Xstd1)\n",
    "y_kmeans1"
   ]
  },
  {
   "cell_type": "code",
   "execution_count": 63,
   "id": "44697eaf",
   "metadata": {},
   "outputs": [
    {
     "data": {
      "text/html": [
       "<div>\n",
       "<style scoped>\n",
       "    .dataframe tbody tr th:only-of-type {\n",
       "        vertical-align: middle;\n",
       "    }\n",
       "\n",
       "    .dataframe tbody tr th {\n",
       "        vertical-align: top;\n",
       "    }\n",
       "\n",
       "    .dataframe thead th {\n",
       "        text-align: right;\n",
       "    }\n",
       "</style>\n",
       "<table border=\"1\" class=\"dataframe\">\n",
       "  <thead>\n",
       "    <tr style=\"text-align: right;\">\n",
       "      <th></th>\n",
       "      <th>CustomerID</th>\n",
       "      <th>Frequency</th>\n",
       "      <th>Recency</th>\n",
       "      <th>Monetary</th>\n",
       "      <th>review_score_mean</th>\n",
       "      <th>ClusterID</th>\n",
       "    </tr>\n",
       "  </thead>\n",
       "  <tbody>\n",
       "    <tr>\n",
       "      <th>0</th>\n",
       "      <td>0000366f3b9a7992bf8c76cfdf3221e2</td>\n",
       "      <td>1</td>\n",
       "      <td>112</td>\n",
       "      <td>129.90</td>\n",
       "      <td>5.0</td>\n",
       "      <td>2</td>\n",
       "    </tr>\n",
       "    <tr>\n",
       "      <th>1</th>\n",
       "      <td>0000b849f77a49e4a4ce2b2a4ca5be3f</td>\n",
       "      <td>1</td>\n",
       "      <td>115</td>\n",
       "      <td>18.90</td>\n",
       "      <td>4.0</td>\n",
       "      <td>2</td>\n",
       "    </tr>\n",
       "    <tr>\n",
       "      <th>2</th>\n",
       "      <td>0000f46a3911fa3c0805444483337064</td>\n",
       "      <td>1</td>\n",
       "      <td>537</td>\n",
       "      <td>69.00</td>\n",
       "      <td>3.0</td>\n",
       "      <td>0</td>\n",
       "    </tr>\n",
       "    <tr>\n",
       "      <th>3</th>\n",
       "      <td>0000f6ccb0745a6a4b88665a16c9f078</td>\n",
       "      <td>1</td>\n",
       "      <td>321</td>\n",
       "      <td>25.99</td>\n",
       "      <td>4.0</td>\n",
       "      <td>0</td>\n",
       "    </tr>\n",
       "    <tr>\n",
       "      <th>4</th>\n",
       "      <td>0004aac84e0df4da2b147fca70cf8255</td>\n",
       "      <td>1</td>\n",
       "      <td>288</td>\n",
       "      <td>180.00</td>\n",
       "      <td>5.0</td>\n",
       "      <td>0</td>\n",
       "    </tr>\n",
       "    <tr>\n",
       "      <th>...</th>\n",
       "      <td>...</td>\n",
       "      <td>...</td>\n",
       "      <td>...</td>\n",
       "      <td>...</td>\n",
       "      <td>...</td>\n",
       "      <td>...</td>\n",
       "    </tr>\n",
       "    <tr>\n",
       "      <th>91473</th>\n",
       "      <td>fffcf5a5ff07b0908bd4e2dbc735a684</td>\n",
       "      <td>2</td>\n",
       "      <td>447</td>\n",
       "      <td>1570.00</td>\n",
       "      <td>5.0</td>\n",
       "      <td>3</td>\n",
       "    </tr>\n",
       "    <tr>\n",
       "      <th>91474</th>\n",
       "      <td>fffea47cd6d3cc0a88bd621562a9d061</td>\n",
       "      <td>1</td>\n",
       "      <td>262</td>\n",
       "      <td>64.89</td>\n",
       "      <td>4.0</td>\n",
       "      <td>0</td>\n",
       "    </tr>\n",
       "    <tr>\n",
       "      <th>91475</th>\n",
       "      <td>ffff371b4d645b6ecea244b27531430a</td>\n",
       "      <td>1</td>\n",
       "      <td>568</td>\n",
       "      <td>89.90</td>\n",
       "      <td>5.0</td>\n",
       "      <td>0</td>\n",
       "    </tr>\n",
       "    <tr>\n",
       "      <th>91476</th>\n",
       "      <td>ffff5962728ec6157033ef9805bacc48</td>\n",
       "      <td>1</td>\n",
       "      <td>119</td>\n",
       "      <td>115.00</td>\n",
       "      <td>5.0</td>\n",
       "      <td>2</td>\n",
       "    </tr>\n",
       "    <tr>\n",
       "      <th>91477</th>\n",
       "      <td>ffffd2657e2aad2907e67c3e9daecbeb</td>\n",
       "      <td>1</td>\n",
       "      <td>484</td>\n",
       "      <td>56.99</td>\n",
       "      <td>5.0</td>\n",
       "      <td>0</td>\n",
       "    </tr>\n",
       "  </tbody>\n",
       "</table>\n",
       "<p>91478 rows × 6 columns</p>\n",
       "</div>"
      ],
      "text/plain": [
       "                             CustomerID  Frequency  Recency  Monetary  \\\n",
       "0      0000366f3b9a7992bf8c76cfdf3221e2          1      112    129.90   \n",
       "1      0000b849f77a49e4a4ce2b2a4ca5be3f          1      115     18.90   \n",
       "2      0000f46a3911fa3c0805444483337064          1      537     69.00   \n",
       "3      0000f6ccb0745a6a4b88665a16c9f078          1      321     25.99   \n",
       "4      0004aac84e0df4da2b147fca70cf8255          1      288    180.00   \n",
       "...                                 ...        ...      ...       ...   \n",
       "91473  fffcf5a5ff07b0908bd4e2dbc735a684          2      447   1570.00   \n",
       "91474  fffea47cd6d3cc0a88bd621562a9d061          1      262     64.89   \n",
       "91475  ffff371b4d645b6ecea244b27531430a          1      568     89.90   \n",
       "91476  ffff5962728ec6157033ef9805bacc48          1      119    115.00   \n",
       "91477  ffffd2657e2aad2907e67c3e9daecbeb          1      484     56.99   \n",
       "\n",
       "       review_score_mean  ClusterID  \n",
       "0                    5.0          2  \n",
       "1                    4.0          2  \n",
       "2                    3.0          0  \n",
       "3                    4.0          0  \n",
       "4                    5.0          0  \n",
       "...                  ...        ...  \n",
       "91473                5.0          3  \n",
       "91474                4.0          0  \n",
       "91475                5.0          0  \n",
       "91476                5.0          2  \n",
       "91477                5.0          0  \n",
       "\n",
       "[91478 rows x 6 columns]"
      ]
     },
     "execution_count": 63,
     "metadata": {},
     "output_type": "execute_result"
    }
   ],
   "source": [
    "RFMS_km=pd.concat([RFM_score_review, pd.Series(y_kmeans1)], axis=1)\n",
    "RFMS_km.columns = ['CustomerID', 'Frequency',  'Recency','Monetary','review_score_mean', 'ClusterID']\n",
    "RFMS_km"
   ]
  },
  {
   "cell_type": "code",
   "execution_count": 64,
   "id": "ab01e181",
   "metadata": {},
   "outputs": [
    {
     "data": {
      "text/html": [
       "<div>\n",
       "<style scoped>\n",
       "    .dataframe tbody tr th:only-of-type {\n",
       "        vertical-align: middle;\n",
       "    }\n",
       "\n",
       "    .dataframe tbody tr th {\n",
       "        vertical-align: top;\n",
       "    }\n",
       "\n",
       "    .dataframe thead th {\n",
       "        text-align: right;\n",
       "    }\n",
       "</style>\n",
       "<table border=\"1\" class=\"dataframe\">\n",
       "  <thead>\n",
       "    <tr style=\"text-align: right;\">\n",
       "      <th></th>\n",
       "      <th>ClusterID</th>\n",
       "      <th>nb_customers</th>\n",
       "    </tr>\n",
       "  </thead>\n",
       "  <tbody>\n",
       "    <tr>\n",
       "      <th>0</th>\n",
       "      <td>0</td>\n",
       "      <td>31253</td>\n",
       "    </tr>\n",
       "    <tr>\n",
       "      <th>1</th>\n",
       "      <td>1</td>\n",
       "      <td>15383</td>\n",
       "    </tr>\n",
       "    <tr>\n",
       "      <th>2</th>\n",
       "      <td>2</td>\n",
       "      <td>41190</td>\n",
       "    </tr>\n",
       "    <tr>\n",
       "      <th>3</th>\n",
       "      <td>3</td>\n",
       "      <td>3652</td>\n",
       "    </tr>\n",
       "  </tbody>\n",
       "</table>\n",
       "</div>"
      ],
      "text/plain": [
       "   ClusterID  nb_customers\n",
       "0          0         31253\n",
       "1          1         15383\n",
       "2          2         41190\n",
       "3          3          3652"
      ]
     },
     "execution_count": 64,
     "metadata": {},
     "output_type": "execute_result"
    }
   ],
   "source": [
    "cust_per_clust=fnb_customper_cluster(RFMS_km)\n",
    "cust_per_clust"
   ]
  },
  {
   "cell_type": "markdown",
   "id": "d7436859",
   "metadata": {},
   "source": [
    "**Observations**<br>\n",
    "le cluster 3 contient le moins de clients"
   ]
  },
  {
   "cell_type": "code",
   "execution_count": 65,
   "id": "b9cacfb0",
   "metadata": {},
   "outputs": [],
   "source": [
    "km1_recency_clusters=mean_clus_feat(RFMS_km,'ClusterID','Recency')\n",
    "km1_frequency_clusters=mean_clus_feat(RFMS_km,'ClusterID','Frequency')\n",
    "km1_monetary_clusters=mean_clus_feat(RFMS_km,'ClusterID','Monetary')\n",
    "km1_score_clusters=mean_clus_feat(RFMS_km,'ClusterID','review_score_mean')"
   ]
  },
  {
   "cell_type": "code",
   "execution_count": 66,
   "id": "a6929220",
   "metadata": {},
   "outputs": [
    {
     "data": {
      "text/html": [
       "<div>\n",
       "<style scoped>\n",
       "    .dataframe tbody tr th:only-of-type {\n",
       "        vertical-align: middle;\n",
       "    }\n",
       "\n",
       "    .dataframe tbody tr th {\n",
       "        vertical-align: top;\n",
       "    }\n",
       "\n",
       "    .dataframe thead th {\n",
       "        text-align: right;\n",
       "    }\n",
       "</style>\n",
       "<table border=\"1\" class=\"dataframe\">\n",
       "  <thead>\n",
       "    <tr style=\"text-align: right;\">\n",
       "      <th></th>\n",
       "      <th>ClusterID</th>\n",
       "      <th>Recency_cluster</th>\n",
       "      <th>Frequency_cluster</th>\n",
       "      <th>Monetary_cluster</th>\n",
       "      <th>scores_cluster</th>\n",
       "    </tr>\n",
       "  </thead>\n",
       "  <tbody>\n",
       "    <tr>\n",
       "      <th>0</th>\n",
       "      <td>0</td>\n",
       "      <td>392.721851</td>\n",
       "      <td>1.113045</td>\n",
       "      <td>119.874850</td>\n",
       "      <td>4.642178</td>\n",
       "    </tr>\n",
       "    <tr>\n",
       "      <th>1</th>\n",
       "      <td>1</td>\n",
       "      <td>229.811675</td>\n",
       "      <td>1.215173</td>\n",
       "      <td>129.269158</td>\n",
       "      <td>1.747210</td>\n",
       "    </tr>\n",
       "    <tr>\n",
       "      <th>2</th>\n",
       "      <td>2</td>\n",
       "      <td>121.891187</td>\n",
       "      <td>1.106749</td>\n",
       "      <td>117.806989</td>\n",
       "      <td>4.705434</td>\n",
       "    </tr>\n",
       "    <tr>\n",
       "      <th>3</th>\n",
       "      <td>3</td>\n",
       "      <td>234.123494</td>\n",
       "      <td>3.225356</td>\n",
       "      <td>731.703743</td>\n",
       "      <td>3.910513</td>\n",
       "    </tr>\n",
       "    <tr>\n",
       "      <th>4</th>\n",
       "      <td>4</td>\n",
       "      <td>NaN</td>\n",
       "      <td>NaN</td>\n",
       "      <td>NaN</td>\n",
       "      <td>NaN</td>\n",
       "    </tr>\n",
       "  </tbody>\n",
       "</table>\n",
       "</div>"
      ],
      "text/plain": [
       "   ClusterID  Recency_cluster  Frequency_cluster  Monetary_cluster  \\\n",
       "0          0       392.721851           1.113045        119.874850   \n",
       "1          1       229.811675           1.215173        129.269158   \n",
       "2          2       121.891187           1.106749        117.806989   \n",
       "3          3       234.123494           3.225356        731.703743   \n",
       "4          4              NaN                NaN               NaN   \n",
       "\n",
       "   scores_cluster  \n",
       "0        4.642178  \n",
       "1        1.747210  \n",
       "2        4.705434  \n",
       "3        3.910513  \n",
       "4             NaN  "
      ]
     },
     "execution_count": 66,
     "metadata": {},
     "output_type": "execute_result"
    }
   ],
   "source": [
    "df1 = pd.concat([pd.Series([0,1,2,3,4]),km1_recency_clusters, km1_frequency_clusters, km1_monetary_clusters,km1_score_clusters], axis=1)\n",
    "df1.columns = [\"ClusterID\", \"Recency_cluster\", \"Frequency_cluster\", \"Monetary_cluster\",\"scores_cluster\"]\n",
    "df1"
   ]
  },
  {
   "cell_type": "code",
   "execution_count": 67,
   "id": "1656ae36",
   "metadata": {},
   "outputs": [
    {
     "data": {
      "text/html": [
       "<div>\n",
       "<style scoped>\n",
       "    .dataframe tbody tr th:only-of-type {\n",
       "        vertical-align: middle;\n",
       "    }\n",
       "\n",
       "    .dataframe tbody tr th {\n",
       "        vertical-align: top;\n",
       "    }\n",
       "\n",
       "    .dataframe thead th {\n",
       "        text-align: right;\n",
       "    }\n",
       "</style>\n",
       "<table border=\"1\" class=\"dataframe\">\n",
       "  <thead>\n",
       "    <tr style=\"text-align: right;\">\n",
       "      <th></th>\n",
       "      <th>Frequency</th>\n",
       "      <th>Recency</th>\n",
       "      <th>Monetary</th>\n",
       "      <th>review_score_mean</th>\n",
       "      <th>ClusterID</th>\n",
       "    </tr>\n",
       "  </thead>\n",
       "  <tbody>\n",
       "    <tr>\n",
       "      <th>count</th>\n",
       "      <td>91478.000000</td>\n",
       "      <td>91478.000000</td>\n",
       "      <td>91478.000000</td>\n",
       "      <td>91478.000000</td>\n",
       "      <td>91478.000000</td>\n",
       "    </tr>\n",
       "    <tr>\n",
       "      <th>mean</th>\n",
       "      <td>1.211712</td>\n",
       "      <td>237.047662</td>\n",
       "      <td>144.949038</td>\n",
       "      <td>4.154631</td>\n",
       "      <td>1.188472</td>\n",
       "    </tr>\n",
       "    <tr>\n",
       "      <th>std</th>\n",
       "      <td>0.679484</td>\n",
       "      <td>152.560470</td>\n",
       "      <td>220.997009</td>\n",
       "      <td>1.279228</td>\n",
       "      <td>0.957128</td>\n",
       "    </tr>\n",
       "    <tr>\n",
       "      <th>min</th>\n",
       "      <td>1.000000</td>\n",
       "      <td>1.000000</td>\n",
       "      <td>0.850000</td>\n",
       "      <td>1.000000</td>\n",
       "      <td>0.000000</td>\n",
       "    </tr>\n",
       "    <tr>\n",
       "      <th>25%</th>\n",
       "      <td>1.000000</td>\n",
       "      <td>114.000000</td>\n",
       "      <td>48.900000</td>\n",
       "      <td>4.000000</td>\n",
       "      <td>0.000000</td>\n",
       "    </tr>\n",
       "    <tr>\n",
       "      <th>50%</th>\n",
       "      <td>1.000000</td>\n",
       "      <td>218.000000</td>\n",
       "      <td>89.900000</td>\n",
       "      <td>5.000000</td>\n",
       "      <td>1.000000</td>\n",
       "    </tr>\n",
       "    <tr>\n",
       "      <th>75%</th>\n",
       "      <td>1.000000</td>\n",
       "      <td>345.000000</td>\n",
       "      <td>159.000000</td>\n",
       "      <td>5.000000</td>\n",
       "      <td>2.000000</td>\n",
       "    </tr>\n",
       "    <tr>\n",
       "      <th>max</th>\n",
       "      <td>24.000000</td>\n",
       "      <td>695.000000</td>\n",
       "      <td>13440.000000</td>\n",
       "      <td>5.000000</td>\n",
       "      <td>3.000000</td>\n",
       "    </tr>\n",
       "  </tbody>\n",
       "</table>\n",
       "</div>"
      ],
      "text/plain": [
       "          Frequency       Recency      Monetary  review_score_mean  \\\n",
       "count  91478.000000  91478.000000  91478.000000       91478.000000   \n",
       "mean       1.211712    237.047662    144.949038           4.154631   \n",
       "std        0.679484    152.560470    220.997009           1.279228   \n",
       "min        1.000000      1.000000      0.850000           1.000000   \n",
       "25%        1.000000    114.000000     48.900000           4.000000   \n",
       "50%        1.000000    218.000000     89.900000           5.000000   \n",
       "75%        1.000000    345.000000    159.000000           5.000000   \n",
       "max       24.000000    695.000000  13440.000000           5.000000   \n",
       "\n",
       "          ClusterID  \n",
       "count  91478.000000  \n",
       "mean       1.188472  \n",
       "std        0.957128  \n",
       "min        0.000000  \n",
       "25%        0.000000  \n",
       "50%        1.000000  \n",
       "75%        2.000000  \n",
       "max        3.000000  "
      ]
     },
     "execution_count": 67,
     "metadata": {},
     "output_type": "execute_result"
    }
   ],
   "source": [
    "RFMS_km.describe()"
   ]
  },
  {
   "cell_type": "markdown",
   "id": "ef06b76b",
   "metadata": {},
   "source": [
    "**Observations**<br>\n",
    "les scores sont pratiquement identiques dans tous les clusters"
   ]
  },
  {
   "cell_type": "code",
   "execution_count": 68,
   "id": "2450d1f4",
   "metadata": {},
   "outputs": [
    {
     "data": {
      "image/png": "[encoded data removed]",
      "text/plain": [
       "<Figure size 432x288 with 1 Axes>"
      ]
     },
     "metadata": {
      "needs_background": "light"
     },
     "output_type": "display_data"
    },
    {
     "name": "stdout",
     "output_type": "stream",
     "text": [
      "****************************************************************************************************\n"
     ]
    },
    {
     "data": {
      "image/png": "[encoded data removed]",
      "text/plain": [
       "<Figure size 432x288 with 1 Axes>"
      ]
     },
     "metadata": {
      "needs_background": "light"
     },
     "output_type": "display_data"
    },
    {
     "name": "stdout",
     "output_type": "stream",
     "text": [
      "****************************************************************************************************\n"
     ]
    },
    {
     "data": {
      "image/png": "[encoded data removed]",
      "text/plain": [
       "<Figure size 432x288 with 1 Axes>"
      ]
     },
     "metadata": {
      "needs_background": "light"
     },
     "output_type": "display_data"
    },
    {
     "name": "stdout",
     "output_type": "stream",
     "text": [
      "****************************************************************************************************\n"
     ]
    },
    {
     "data": {
      "image/png": "[encoded data removed]",
      "text/plain": [
       "<Figure size 432x288 with 1 Axes>"
      ]
     },
     "metadata": {
      "needs_background": "light"
     },
     "output_type": "display_data"
    }
   ],
   "source": [
    "sns.barplot(x=df1.ClusterID, y=df1.Monetary_cluster)\n",
    "plt.show()\n",
    "print('*'*100)\n",
    "sns.barplot(x=df1.ClusterID, y=df1.scores_cluster)\n",
    "plt.show()\n",
    "print('*'*100)\n",
    "sns.barplot(x=df1.ClusterID, y=df1.Frequency_cluster)\n",
    "plt.show()\n",
    "print('*'*100)\n",
    "sns.barplot(x=df1.ClusterID, y=df1.Recency_cluster)\n",
    "plt.show()"
   ]
  },
  {
   "cell_type": "markdown",
   "id": "c9aca1bd",
   "metadata": {},
   "source": [
    "**Observations**<br>\n",
    "-cluster 0:les clients les plus récents et les plus satisfaits<br>\n",
    "-cluster1:les clients sont les plus satisfaits<br>\n",
    "-cluster2:les clients   satisfaistet <br>\n",
    "-<b>cluster 3:<font color='red'>les clients avec les montants lesplus élevés, achètent fréquement et scores sont bien:poetntiel client</font>"
   ]
  },
  {
   "cell_type": "code",
   "execution_count": 69,
   "id": "a1fc9bdb",
   "metadata": {},
   "outputs": [
    {
     "data": {
      "text/plain": [
       "Index(['ClusterID', 'Recency_cluster', 'Frequency_cluster', 'Monetary_cluster',\n",
       "       'scores_cluster'],\n",
       "      dtype='object')"
      ]
     },
     "execution_count": 69,
     "metadata": {},
     "output_type": "execute_result"
    }
   ],
   "source": [
    "df1.columns"
   ]
  },
  {
   "cell_type": "markdown",
   "id": "807e7250",
   "metadata": {},
   "source": [
    "### .Clustering avec kmeans (RFM+localisation)"
   ]
  },
  {
   "cell_type": "markdown",
   "id": "0bf94c2d",
   "metadata": {},
   "source": [
    "### .Clustering avec kprotype (RFM+localisation)"
   ]
  },
  {
   "cell_type": "code",
   "execution_count": 46,
   "id": "a9b6c41e",
   "metadata": {},
   "outputs": [],
   "source": [
    "from kmodes.kprototypes import KPrototypes"
   ]
  },
  {
   "cell_type": "code",
   "execution_count": 70,
   "id": "1e2ed93c",
   "metadata": {},
   "outputs": [
    {
     "data": {
      "text/plain": [
       "Index(['customer_id', 'customer_unique_id', 'customer_city', 'customer_state',\n",
       "       'order_id', 'order_status', 'order_purchase_timestamp', 'order_item_id',\n",
       "       'product_id', 'seller_id', 'price', 'payment_type', 'review_id',\n",
       "       'review_score', 'product_category_name', 'seller_zip_code_prefix',\n",
       "       'seller_city', 'seller_state'],\n",
       "      dtype='object')"
      ]
     },
     "execution_count": 70,
     "metadata": {},
     "output_type": "execute_result"
    }
   ],
   "source": [
    "df_cmd.columns"
   ]
  },
  {
   "cell_type": "code",
   "execution_count": 47,
   "id": "129f60fc",
   "metadata": {},
   "outputs": [
    {
     "name": "stderr",
     "output_type": "stream",
     "text": [
      "C:\\Users\\IMEN\\AppData\\Local\\Temp\\ipykernel_5300\\2233972235.py:2: SettingWithCopyWarning: \n",
      "A value is trying to be set on a copy of a slice from a DataFrame.\n",
      "Try using .loc[row_indexer,col_indexer] = value instead\n",
      "\n",
      "See the caveats in the documentation: https://pandas.pydata.org/pandas-docs/stable/user_guide/indexing.html#returning-a-view-versus-a-copy\n",
      "  customer_loc['customer_city_state']=customer_loc['customer_city'].str.upper()+customer_loc['customer_state'].str.upper()\n"
     ]
    }
   ],
   "source": [
    "customer_loc=df_cmd[['customer_unique_id','customer_city', 'customer_state']]\n",
    "customer_loc['customer_city_state']=customer_loc['customer_city'].str.upper()+customer_loc['customer_state'].str.upper()"
   ]
  },
  {
   "cell_type": "code",
   "execution_count": 72,
   "id": "c8b7b997",
   "metadata": {},
   "outputs": [],
   "source": [
    "customer_loc=customer_loc"
   ]
  },
  {
   "cell_type": "code",
   "execution_count": 50,
   "id": "b1cb06fb",
   "metadata": {},
   "outputs": [
    {
     "data": {
      "text/html": [
       "<div>\n",
       "<style scoped>\n",
       "    .dataframe tbody tr th:only-of-type {\n",
       "        vertical-align: middle;\n",
       "    }\n",
       "\n",
       "    .dataframe tbody tr th {\n",
       "        vertical-align: top;\n",
       "    }\n",
       "\n",
       "    .dataframe thead th {\n",
       "        text-align: right;\n",
       "    }\n",
       "</style>\n",
       "<table border=\"1\" class=\"dataframe\">\n",
       "  <thead>\n",
       "    <tr style=\"text-align: right;\">\n",
       "      <th></th>\n",
       "      <th>customer_unique_id</th>\n",
       "      <th>customer_city_state</th>\n",
       "      <th>Frequency</th>\n",
       "      <th>Monetary</th>\n",
       "      <th>Recency</th>\n",
       "    </tr>\n",
       "  </thead>\n",
       "  <tbody>\n",
       "    <tr>\n",
       "      <th>0</th>\n",
       "      <td>861eff4711a542e4b93843c6dd7febb0</td>\n",
       "      <td>FRANCASP</td>\n",
       "      <td>1</td>\n",
       "      <td>124.99</td>\n",
       "      <td>470</td>\n",
       "    </tr>\n",
       "    <tr>\n",
       "      <th>1</th>\n",
       "      <td>9eae34bbd3a474ec5d07949ca7de67c0</td>\n",
       "      <td>SANTAREMPA</td>\n",
       "      <td>2</td>\n",
       "      <td>225.98</td>\n",
       "      <td>294</td>\n",
       "    </tr>\n",
       "    <tr>\n",
       "      <th>2</th>\n",
       "      <td>9eae34bbd3a474ec5d07949ca7de67c0</td>\n",
       "      <td>SANTAREMPA</td>\n",
       "      <td>2</td>\n",
       "      <td>225.98</td>\n",
       "      <td>294</td>\n",
       "    </tr>\n",
       "    <tr>\n",
       "      <th>3</th>\n",
       "      <td>3c799d181c34d51f6d44bbbc563024db</td>\n",
       "      <td>NOVA SANTA RITARS</td>\n",
       "      <td>1</td>\n",
       "      <td>124.99</td>\n",
       "      <td>479</td>\n",
       "    </tr>\n",
       "    <tr>\n",
       "      <th>4</th>\n",
       "      <td>23397e992b09769faf5e66f9e171a241</td>\n",
       "      <td>MAGERJ</td>\n",
       "      <td>1</td>\n",
       "      <td>106.99</td>\n",
       "      <td>207</td>\n",
       "    </tr>\n",
       "    <tr>\n",
       "      <th>...</th>\n",
       "      <td>...</td>\n",
       "      <td>...</td>\n",
       "      <td>...</td>\n",
       "      <td>...</td>\n",
       "      <td>...</td>\n",
       "    </tr>\n",
       "    <tr>\n",
       "      <th>110840</th>\n",
       "      <td>38e482d7770a43f5929378c4dec76d5e</td>\n",
       "      <td>PARNAMIRIMRN</td>\n",
       "      <td>1</td>\n",
       "      <td>1750.00</td>\n",
       "      <td>13</td>\n",
       "    </tr>\n",
       "    <tr>\n",
       "      <th>110841</th>\n",
       "      <td>393c2ace23a135d0bcc7e70167448e16</td>\n",
       "      <td>BARREIRASBA</td>\n",
       "      <td>1</td>\n",
       "      <td>145.90</td>\n",
       "      <td>41</td>\n",
       "    </tr>\n",
       "    <tr>\n",
       "      <th>110842</th>\n",
       "      <td>5c22dbb9d8b5385953f2f1e6d9d115a7</td>\n",
       "      <td>JORDANIAMG</td>\n",
       "      <td>1</td>\n",
       "      <td>49.90</td>\n",
       "      <td>28</td>\n",
       "    </tr>\n",
       "    <tr>\n",
       "      <th>110843</th>\n",
       "      <td>7f5f43a9394964ac51bc5d1e0204ead4</td>\n",
       "      <td>URUACUGO</td>\n",
       "      <td>1</td>\n",
       "      <td>135.98</td>\n",
       "      <td>11</td>\n",
       "    </tr>\n",
       "    <tr>\n",
       "      <th>110844</th>\n",
       "      <td>82d46759af0369aad49084bacf85a6c3</td>\n",
       "      <td>BOM REPOUSOMG</td>\n",
       "      <td>1</td>\n",
       "      <td>167.99</td>\n",
       "      <td>289</td>\n",
       "    </tr>\n",
       "  </tbody>\n",
       "</table>\n",
       "<p>110845 rows × 5 columns</p>\n",
       "</div>"
      ],
      "text/plain": [
       "                      customer_unique_id customer_city_state  Frequency  \\\n",
       "0       861eff4711a542e4b93843c6dd7febb0            FRANCASP          1   \n",
       "1       9eae34bbd3a474ec5d07949ca7de67c0          SANTAREMPA          2   \n",
       "2       9eae34bbd3a474ec5d07949ca7de67c0          SANTAREMPA          2   \n",
       "3       3c799d181c34d51f6d44bbbc563024db   NOVA SANTA RITARS          1   \n",
       "4       23397e992b09769faf5e66f9e171a241              MAGERJ          1   \n",
       "...                                  ...                 ...        ...   \n",
       "110840  38e482d7770a43f5929378c4dec76d5e        PARNAMIRIMRN          1   \n",
       "110841  393c2ace23a135d0bcc7e70167448e16         BARREIRASBA          1   \n",
       "110842  5c22dbb9d8b5385953f2f1e6d9d115a7          JORDANIAMG          1   \n",
       "110843  7f5f43a9394964ac51bc5d1e0204ead4            URUACUGO          1   \n",
       "110844  82d46759af0369aad49084bacf85a6c3       BOM REPOUSOMG          1   \n",
       "\n",
       "        Monetary  Recency  \n",
       "0         124.99      470  \n",
       "1         225.98      294  \n",
       "2         225.98      294  \n",
       "3         124.99      479  \n",
       "4         106.99      207  \n",
       "...          ...      ...  \n",
       "110840   1750.00       13  \n",
       "110841    145.90       41  \n",
       "110842     49.90       28  \n",
       "110843    135.98       11  \n",
       "110844    167.99      289  \n",
       "\n",
       "[110845 rows x 5 columns]"
      ]
     },
     "execution_count": 50,
     "metadata": {},
     "output_type": "execute_result"
    }
   ],
   "source": [
    "RFM_loc=pd.merge(customer_loc,RFM,on='customer_unique_id')\n",
    "RFM_loc=RFM_loc[['customer_unique_id','customer_city_state','Frequency','Monetary','Recency']]\n",
    "RFM_loc"
   ]
  },
  {
   "cell_type": "code",
   "execution_count": 63,
   "id": "1c986fa1",
   "metadata": {},
   "outputs": [
    {
     "data": {
      "text/html": [
       "<div>\n",
       "<style scoped>\n",
       "    .dataframe tbody tr th:only-of-type {\n",
       "        vertical-align: middle;\n",
       "    }\n",
       "\n",
       "    .dataframe tbody tr th {\n",
       "        vertical-align: top;\n",
       "    }\n",
       "\n",
       "    .dataframe thead th {\n",
       "        text-align: right;\n",
       "    }\n",
       "</style>\n",
       "<table border=\"1\" class=\"dataframe\">\n",
       "  <thead>\n",
       "    <tr style=\"text-align: right;\">\n",
       "      <th></th>\n",
       "      <th>Frequency</th>\n",
       "      <th>Monetary</th>\n",
       "      <th>Recency</th>\n",
       "      <th>customer_city_state</th>\n",
       "    </tr>\n",
       "  </thead>\n",
       "  <tbody>\n",
       "    <tr>\n",
       "      <th>0</th>\n",
       "      <td>-0.406723</td>\n",
       "      <td>-0.163188</td>\n",
       "      <td>1.531656</td>\n",
       "      <td>FRANCASP</td>\n",
       "    </tr>\n",
       "    <tr>\n",
       "      <th>1</th>\n",
       "      <td>0.279454</td>\n",
       "      <td>0.193968</td>\n",
       "      <td>0.375360</td>\n",
       "      <td>SANTAREMPA</td>\n",
       "    </tr>\n",
       "    <tr>\n",
       "      <th>2</th>\n",
       "      <td>0.279454</td>\n",
       "      <td>0.193968</td>\n",
       "      <td>0.375360</td>\n",
       "      <td>SANTAREMPA</td>\n",
       "    </tr>\n",
       "    <tr>\n",
       "      <th>3</th>\n",
       "      <td>-0.406723</td>\n",
       "      <td>-0.163188</td>\n",
       "      <td>1.590785</td>\n",
       "      <td>NOVA SANTA RITARS</td>\n",
       "    </tr>\n",
       "    <tr>\n",
       "      <th>4</th>\n",
       "      <td>-0.406723</td>\n",
       "      <td>-0.226846</td>\n",
       "      <td>-0.196218</td>\n",
       "      <td>MAGERJ</td>\n",
       "    </tr>\n",
       "    <tr>\n",
       "      <th>...</th>\n",
       "      <td>...</td>\n",
       "      <td>...</td>\n",
       "      <td>...</td>\n",
       "      <td>...</td>\n",
       "    </tr>\n",
       "    <tr>\n",
       "      <th>110840</th>\n",
       "      <td>-0.406723</td>\n",
       "      <td>5.583735</td>\n",
       "      <td>-1.470771</td>\n",
       "      <td>PARNAMIRIMRN</td>\n",
       "    </tr>\n",
       "    <tr>\n",
       "      <th>110841</th>\n",
       "      <td>-0.406723</td>\n",
       "      <td>-0.089239</td>\n",
       "      <td>-1.286815</td>\n",
       "      <td>BARREIRASBA</td>\n",
       "    </tr>\n",
       "    <tr>\n",
       "      <th>110842</th>\n",
       "      <td>-0.406723</td>\n",
       "      <td>-0.428748</td>\n",
       "      <td>-1.372223</td>\n",
       "      <td>JORDANIAMG</td>\n",
       "    </tr>\n",
       "    <tr>\n",
       "      <th>110843</th>\n",
       "      <td>-0.406723</td>\n",
       "      <td>-0.124322</td>\n",
       "      <td>-1.483911</td>\n",
       "      <td>URUACUGO</td>\n",
       "    </tr>\n",
       "    <tr>\n",
       "      <th>110844</th>\n",
       "      <td>-0.406723</td>\n",
       "      <td>-0.011117</td>\n",
       "      <td>0.342511</td>\n",
       "      <td>BOM REPOUSOMG</td>\n",
       "    </tr>\n",
       "  </tbody>\n",
       "</table>\n",
       "<p>110845 rows × 4 columns</p>\n",
       "</div>"
      ],
      "text/plain": [
       "        Frequency  Monetary   Recency customer_city_state\n",
       "0       -0.406723 -0.163188  1.531656            FRANCASP\n",
       "1        0.279454  0.193968  0.375360          SANTAREMPA\n",
       "2        0.279454  0.193968  0.375360          SANTAREMPA\n",
       "3       -0.406723 -0.163188  1.590785   NOVA SANTA RITARS\n",
       "4       -0.406723 -0.226846 -0.196218              MAGERJ\n",
       "...           ...       ...       ...                 ...\n",
       "110840  -0.406723  5.583735 -1.470771        PARNAMIRIMRN\n",
       "110841  -0.406723 -0.089239 -1.286815         BARREIRASBA\n",
       "110842  -0.406723 -0.428748 -1.372223          JORDANIAMG\n",
       "110843  -0.406723 -0.124322 -1.483911            URUACUGO\n",
       "110844  -0.406723 -0.011117  0.342511       BOM REPOUSOMG\n",
       "\n",
       "[110845 rows x 4 columns]"
      ]
     },
     "execution_count": 63,
     "metadata": {},
     "output_type": "execute_result"
    }
   ],
   "source": [
    "RFM_loc_scal = RFM_loc.copy()\n",
    "\n",
    "RFM_loc_scal[['Frequency','Monetary','Recency']] = scaler.fit_transform(RFM_loc[['Frequency','Monetary','Recency']])\n",
    "\n",
    "X_sca=RFM_loc_scal[['Frequency','Monetary','Recency','customer_city_state']]\n",
    "X_sca"
   ]
  },
  {
   "cell_type": "code",
   "execution_count": 64,
   "id": "b69d1176",
   "metadata": {},
   "outputs": [
    {
     "name": "stdout",
     "output_type": "stream",
     "text": [
      "Best run was number 7\n"
     ]
    },
    {
     "data": {
      "text/plain": [
       "KPrototypes(gamma=0.5, init='Huang', n_clusters=4, n_jobs=-1, verbose=1)    1\n",
       "dtype: int64"
      ]
     },
     "execution_count": 64,
     "metadata": {},
     "output_type": "execute_result"
    }
   ],
   "source": [
    "#Actual clustering\n",
    "kproto = KPrototypes(n_clusters=4,  init='Huang',n_jobs=-1,n_init=10,verbose=1) \n",
    "clusters = kproto.fit(X_sca, categorical=[3])\n",
    "\n",
    "\n",
    "#Prints the count of each cluster group\n",
    "pd.Series(clusters).value_counts()"
   ]
  },
  {
   "cell_type": "code",
   "execution_count": 73,
   "id": "95e79207",
   "metadata": {},
   "outputs": [
    {
     "data": {
      "text/plain": [
       "range(2, 11)"
      ]
     },
     "execution_count": 73,
     "metadata": {},
     "output_type": "execute_result"
    }
   ],
   "source": [
    "k_rng"
   ]
  },
  {
   "cell_type": "code",
   "execution_count": null,
   "id": "4be69979",
   "metadata": {},
   "outputs": [
    {
     "name": "stdout",
     "output_type": "stream",
     "text": [
      "2\\.cluster start\n"
     ]
    }
   ],
   "source": [
    "import time\n",
    "start = time.time()\n",
    "\n",
    "felbow_kprototypes(k_rng,X_sca,3)\n",
    "\n",
    "end = time.time()\n",
    "elapsed = end - start\n",
    "\n",
    "print(f'Temps d\\'exécution : {elapsed:.2}ms')"
   ]
  },
  {
   "cell_type": "code",
   "execution_count": null,
   "id": "2a354460",
   "metadata": {},
   "outputs": [],
   "source": []
  },
  {
   "cell_type": "code",
   "execution_count": null,
   "id": "bc0164e1",
   "metadata": {},
   "outputs": [],
   "source": []
  },
  {
   "cell_type": "code",
   "execution_count": null,
   "id": "821b437f",
   "metadata": {},
   "outputs": [],
   "source": []
  },
  {
   "cell_type": "markdown",
   "id": "85381016",
   "metadata": {},
   "source": [
    "### .Agglomerative clustering (RFM)"
   ]
  },
  {
   "cell_type": "markdown",
   "id": "16b4321b",
   "metadata": {},
   "source": [
    "### DBSCAN"
   ]
  },
  {
   "cell_type": "code",
   "execution_count": 79,
   "id": "1bc6f3e9",
   "metadata": {},
   "outputs": [
    {
     "data": {
      "text/html": [
       "<div>\n",
       "<style scoped>\n",
       "    .dataframe tbody tr th:only-of-type {\n",
       "        vertical-align: middle;\n",
       "    }\n",
       "\n",
       "    .dataframe tbody tr th {\n",
       "        vertical-align: top;\n",
       "    }\n",
       "\n",
       "    .dataframe thead th {\n",
       "        text-align: right;\n",
       "    }\n",
       "</style>\n",
       "<table border=\"1\" class=\"dataframe\">\n",
       "  <thead>\n",
       "    <tr style=\"text-align: right;\">\n",
       "      <th></th>\n",
       "      <th>customer_unique_id</th>\n",
       "      <th>Frequency</th>\n",
       "      <th>Recency</th>\n",
       "      <th>Monetary</th>\n",
       "    </tr>\n",
       "  </thead>\n",
       "  <tbody>\n",
       "    <tr>\n",
       "      <th>2997</th>\n",
       "      <td>084142ff1817e56910833e3edd9bb3d5</td>\n",
       "      <td>2</td>\n",
       "      <td>261</td>\n",
       "      <td>100.00</td>\n",
       "    </tr>\n",
       "    <tr>\n",
       "      <th>90786</th>\n",
       "      <td>fe0617cc03bb1fdefeb9e76e7d316548</td>\n",
       "      <td>1</td>\n",
       "      <td>194</td>\n",
       "      <td>29.99</td>\n",
       "    </tr>\n",
       "    <tr>\n",
       "      <th>74143</th>\n",
       "      <td>cf523d0df815451719f36ad96aff8d78</td>\n",
       "      <td>1</td>\n",
       "      <td>217</td>\n",
       "      <td>169.90</td>\n",
       "    </tr>\n",
       "    <tr>\n",
       "      <th>78079</th>\n",
       "      <td>da2b78576894a7f95d45bfd20250cc54</td>\n",
       "      <td>3</td>\n",
       "      <td>268</td>\n",
       "      <td>374.15</td>\n",
       "    </tr>\n",
       "    <tr>\n",
       "      <th>5866</th>\n",
       "      <td>103d84bb2976d228f12366cdce69da76</td>\n",
       "      <td>1</td>\n",
       "      <td>74</td>\n",
       "      <td>79.90</td>\n",
       "    </tr>\n",
       "  </tbody>\n",
       "</table>\n",
       "</div>"
      ],
      "text/plain": [
       "                     customer_unique_id  Frequency  Recency  Monetary\n",
       "2997   084142ff1817e56910833e3edd9bb3d5          2      261    100.00\n",
       "90786  fe0617cc03bb1fdefeb9e76e7d316548          1      194     29.99\n",
       "74143  cf523d0df815451719f36ad96aff8d78          1      217    169.90\n",
       "78079  da2b78576894a7f95d45bfd20250cc54          3      268    374.15\n",
       "5866   103d84bb2976d228f12366cdce69da76          1       74     79.90"
      ]
     },
     "execution_count": 79,
     "metadata": {},
     "output_type": "execute_result"
    }
   ],
   "source": [
    "df_db=RFM.sample(frac=0.5)\n",
    "df_db.head()"
   ]
  },
  {
   "cell_type": "code",
   "execution_count": null,
   "id": "7097f54f",
   "metadata": {},
   "outputs": [],
   "source": []
  },
  {
   "cell_type": "code",
   "execution_count": null,
   "id": "d03ae6a9",
   "metadata": {},
   "outputs": [],
   "source": [
    "!python -V\n"
   ]
  },
  {
   "cell_type": "code",
   "execution_count": null,
   "id": "685cab67",
   "metadata": {},
   "outputs": [],
   "source": []
  },
  {
   "cell_type": "code",
   "execution_count": null,
   "id": "7fff7587",
   "metadata": {},
   "outputs": [],
   "source": []
  }
 ],
 "metadata": {
  "kernelspec": {
   "display_name": "Python 3 (ipykernel)",
   "language": "python",
   "name": "python3"
  },
  "language_info": {
   "codemirror_mode": {
    "name": "ipython",
    "version": 3
   },
   "file_extension": ".py",
   "mimetype": "text/x-python",
   "name": "python",
   "nbconvert_exporter": "python",
   "pygments_lexer": "ipython3",
   "version": "3.10.4"
  }
 },
 "nbformat": 4,
 "nbformat_minor": 5
}
